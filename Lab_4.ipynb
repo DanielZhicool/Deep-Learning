{
 "cells": [
  {
   "cell_type": "code",
   "execution_count": 43,
   "metadata": {},
   "outputs": [],
   "source": [
    "import numpy as np\n",
    "import torch\n",
    "from torch import nn\n",
    "from torch.utils.data import DataLoader\n",
    "from torchvision import datasets\n",
    "from torchvision.transforms import ToTensor, Compose, Normalize\n",
    "\n",
    "# Ignore warnings\n",
    "import warnings\n",
    "warnings.filterwarnings(\"ignore\")"
   ]
  },
  {
   "cell_type": "markdown",
   "metadata": {},
   "source": [
    "## Device"
   ]
  },
  {
   "cell_type": "code",
   "execution_count": 44,
   "metadata": {},
   "outputs": [
    {
     "data": {
      "text/plain": [
       "_CudaDeviceProperties(name='NVIDIA GeForce GTX 1080 Ti', major=6, minor=1, total_memory=11263MB, multi_processor_count=28)"
      ]
     },
     "execution_count": 44,
     "metadata": {},
     "output_type": "execute_result"
    }
   ],
   "source": [
    "# Get gpu device\n",
    "\n",
    "device = torch.device(\"cuda:0\" if torch.cuda.is_available() else \"cpu\")\n",
    "\n",
    "torch.backends.cudnn.benchmark = True\n",
    "torch.cuda.get_device_properties(0)"
   ]
  },
  {
   "cell_type": "markdown",
   "metadata": {},
   "source": [
    "## Download CIFAR100 dataset"
   ]
  },
  {
   "cell_type": "code",
   "execution_count": 45,
   "metadata": {},
   "outputs": [
    {
     "name": "stdout",
     "output_type": "stream",
     "text": [
      "Files already downloaded and verified\n",
      "Files already downloaded and verified\n"
     ]
    }
   ],
   "source": [
    "# Normalize a tensor image with mean and standard deviation of 0.5\n",
    "transform = Compose([ToTensor(), Normalize([0.5, 0.5, 0.5], [0.5, 0.5, 0.5]).to(device)])\n",
    "\n",
    "# Download train data\n",
    "training_data = datasets.CIFAR100(\n",
    "    root=\"data\",\n",
    "    train=True,\n",
    "    download=True,\n",
    "    transform=transform,\n",
    ")\n",
    "\n",
    "# Download test data\n",
    "test_data = datasets.CIFAR100(\n",
    "    root=\"data\",\n",
    "    train=False,\n",
    "    download=True,\n",
    "    transform=transform,\n",
    ")"
   ]
  },
  {
   "cell_type": "markdown",
   "metadata": {},
   "source": [
    "### Number of classes"
   ]
  },
  {
   "cell_type": "code",
   "execution_count": 46,
   "metadata": {},
   "outputs": [
    {
     "data": {
      "text/plain": [
       "100"
      ]
     },
     "execution_count": 46,
     "metadata": {},
     "output_type": "execute_result"
    }
   ],
   "source": [
    "n_classes = len(test_data.classes)\n",
    "n_classes"
   ]
  },
  {
   "cell_type": "markdown",
   "metadata": {},
   "source": [
    "## Dataloaders"
   ]
  },
  {
   "cell_type": "code",
   "execution_count": 47,
   "metadata": {},
   "outputs": [
    {
     "name": "stdout",
     "output_type": "stream",
     "text": [
      "Shape of X [N, C, H, W]: torch.Size([512, 3, 32, 32])\n",
      "Shape of y: torch.Size([512]) torch.int64\n"
     ]
    }
   ],
   "source": [
    "batch_size = 512\n",
    "image_size = 32 * 32 * 3\n",
    "\n",
    "# Create data loaders.\n",
    "train_dataloader = DataLoader(training_data, batch_size=batch_size, shuffle=True)\n",
    "test_dataloader = DataLoader(test_data, batch_size=batch_size, shuffle=True)\n",
    "for X, y in test_dataloader:\n",
    "    print(f\"Shape of X [N, C, H, W]: {X.shape}\")\n",
    "    print(f\"Shape of y: {y.shape} {y.dtype}\")\n",
    "    break"
   ]
  },
  {
   "cell_type": "code",
   "execution_count": 48,
   "metadata": {},
   "outputs": [
    {
     "name": "stdout",
     "output_type": "stream",
     "text": [
      "50000\n",
      "10000\n"
     ]
    }
   ],
   "source": [
    "print(len(train_dataloader.dataset))\n",
    "print(len(test_dataloader.dataset))"
   ]
  },
  {
   "cell_type": "markdown",
   "metadata": {},
   "source": [
    "## Define model"
   ]
  },
  {
   "cell_type": "code",
   "execution_count": 49,
   "metadata": {},
   "outputs": [
    {
     "name": "stdout",
     "output_type": "stream",
     "text": [
      "Using cuda:0 device\n",
      "NeuralNetwork(\n",
      "  (flatten): Flatten(start_dim=1, end_dim=-1)\n",
      "  (layers): Sequential(\n",
      "    (0): Linear(in_features=3072, out_features=1024, bias=True)\n",
      "    (1): BatchNorm1d(1024, eps=1e-05, momentum=0.1, affine=True, track_running_stats=True)\n",
      "    (2): ReLU()\n",
      "    (3): Dropout(p=0.5, inplace=False)\n",
      "    (4): Linear(in_features=1024, out_features=512, bias=True)\n",
      "    (5): BatchNorm1d(512, eps=1e-05, momentum=0.1, affine=True, track_running_stats=True)\n",
      "    (6): ReLU()\n",
      "    (7): Dropout(p=0.5, inplace=False)\n",
      "    (8): Linear(in_features=512, out_features=256, bias=True)\n",
      "    (9): BatchNorm1d(256, eps=1e-05, momentum=0.1, affine=True, track_running_stats=True)\n",
      "    (10): ReLU()\n",
      "    (11): Dropout(p=0.5, inplace=False)\n",
      "    (12): Linear(in_features=256, out_features=128, bias=True)\n",
      "    (13): BatchNorm1d(128, eps=1e-05, momentum=0.1, affine=True, track_running_stats=True)\n",
      "    (14): ReLU()\n",
      "    (15): Dropout(p=0.5, inplace=False)\n",
      "    (16): Linear(in_features=128, out_features=100, bias=True)\n",
      "  )\n",
      ")\n"
     ]
    }
   ],
   "source": [
    "\n",
    "print(f\"Using {device} device\")\n",
    "\n",
    "class NeuralNetwork(nn.Module):\n",
    "    def __init__(self, hidden_layers=[512, 256, 128], activations=[nn.ReLU(), nn.ReLU(), nn.ReLU()], batch_norm=[False, False, False], dropout=[0, 0, 0], n_classes=2):\n",
    "        super().__init__()\n",
    "    \n",
    "        self.flatten = nn.Flatten()\n",
    "\n",
    "        layers = []\n",
    "\n",
    "        layers.append(nn.Linear(image_size, hidden_layers[0]))\n",
    "        layers.append(nn.BatchNorm1d(hidden_layers[0]))\n",
    "        layers.append(activations[0])\n",
    "        layers.append(nn.Dropout(dropout[0]))\n",
    "        \n",
    "        for i in range(len(hidden_layers)-1):\n",
    "            layers.append(nn.Linear(hidden_layers[i], hidden_layers[i+1]))\n",
    "            layers.append(nn.BatchNorm1d(hidden_layers[i+1]))\n",
    "            layers.append(activations[i+1])\n",
    "            layers.append(nn.Dropout(dropout[i+1]))\n",
    "            \n",
    "        layers.append(nn.Linear(hidden_layers[-1], n_classes))\n",
    "        \n",
    "        self.layers = nn.Sequential(*layers)\n",
    "\n",
    "    def forward(self, x):\n",
    "        x = self.flatten(x)\n",
    "        logits = self.layers(x)\n",
    "        return logits\n",
    "\n",
    "model = NeuralNetwork(hidden_layers = [1024, 512, 256, 128], activations=[nn.ReLU(), nn.ReLU(), nn.ReLU(), nn.ReLU()], batch_norm=[True]*4, dropout=[0.5]*4, n_classes=n_classes).to(device)\n",
    "print(model)"
   ]
  },
  {
   "cell_type": "markdown",
   "metadata": {},
   "source": [
    "## Define optimizer and loss function"
   ]
  },
  {
   "cell_type": "code",
   "execution_count": 50,
   "metadata": {},
   "outputs": [],
   "source": [
    "loss_fn = nn.CrossEntropyLoss()\n",
    "optimizer = torch.optim.Adam(model.parameters(), lr=0.01)"
   ]
  },
  {
   "cell_type": "markdown",
   "metadata": {},
   "source": [
    "## Learning rate schedule (One cycle policy)"
   ]
  },
  {
   "cell_type": "code",
   "execution_count": 51,
   "metadata": {},
   "outputs": [],
   "source": [
    "import torch.optim.lr_scheduler as lr_scheduler\n",
    "\n",
    "epochs = 20\n",
    "\n",
    "scheduler = torch.optim.lr_scheduler.OneCycleLR(optimizer, 0.01, epochs=20, steps_per_epoch=len(train_dataloader))\n",
    "# scheduler = lr_scheduler.LinearLR(optimizer, start_factor=1, end_factor=1e-3, total_iters=epochs) # linear\n",
    "# scheduler = lr_scheduler.ExponentialLR(optimizer, gamma=0.97) # exponential"
   ]
  },
  {
   "cell_type": "markdown",
   "metadata": {},
   "source": [
    "## Training loop"
   ]
  },
  {
   "cell_type": "code",
   "execution_count": 52,
   "metadata": {},
   "outputs": [],
   "source": [
    "train_loss_history = []\n",
    "lr_history = []"
   ]
  },
  {
   "cell_type": "code",
   "execution_count": 53,
   "metadata": {},
   "outputs": [],
   "source": [
    "def train(dataloader, model, loss_fn, optimizer):\n",
    "    size = len(dataloader.dataset)\n",
    "    model.train()\n",
    "    train_loss = 0\n",
    "\n",
    "    for batch, (X, y) in enumerate(dataloader):\n",
    "        X, y = X.to(device), y.to(device)\n",
    "\n",
    "        # Compute prediction error\n",
    "        pred = model(X)\n",
    "        loss = loss_fn(pred, y)\n",
    "        train_loss += loss.item()\n",
    "\n",
    "        # Backpropagation\n",
    "        loss.backward()\n",
    "        optimizer.step()\n",
    "        optimizer.zero_grad()\n",
    "        \n",
    "        scheduler.step()\n",
    "        lr_history.append(scheduler.get_last_lr())\n",
    "\n",
    "        if batch % 100 == 0:\n",
    "            loss, current = loss.item(), (batch + 1) * len(X)\n",
    "            print(f\"loss: {loss:>7f}  [{current:>5d}/{size:>5d}]\")\n",
    "            \n",
    "            \n",
    "    train_loss /= len(dataloader)\n",
    "    train_loss_history.append(train_loss)"
   ]
  },
  {
   "cell_type": "code",
   "execution_count": 54,
   "metadata": {},
   "outputs": [],
   "source": [
    "test_loss_history = []\n",
    "test_metric_history = []"
   ]
  },
  {
   "cell_type": "code",
   "execution_count": 55,
   "metadata": {},
   "outputs": [],
   "source": [
    "def test(dataloader, model, loss_fn, optimizer):\n",
    "    size = len(dataloader.dataset)\n",
    "    num_batches = len(dataloader)\n",
    "    model.eval()\n",
    "    test_loss, correct = 0, 0\n",
    "    with torch.no_grad():\n",
    "        for X, y in dataloader:\n",
    "            X, y = X.to(device), y.to(device)\n",
    "            pred = model(X)\n",
    "            test_loss += loss_fn(pred, y).item()\n",
    "            correct += (pred.argmax(1) == y).type(torch.float).sum().item()\n",
    "    test_loss /= num_batches\n",
    "    correct /= size\n",
    "    test_loss_history.append(test_loss)\n",
    "    test_metric_history.append(correct * 100)\n",
    "    \n",
    "\n",
    "    print(f\"Test Error: \\n Accuracy: {(100*correct):>0.1f}%, Avg loss: {test_loss:>8f} \\n lr: {optimizer.param_groups[0]['lr']}\")\n",
    "    print(\"_______________________________\")"
   ]
  },
  {
   "cell_type": "code",
   "execution_count": 56,
   "metadata": {},
   "outputs": [
    {
     "name": "stdout",
     "output_type": "stream",
     "text": [
      "Epoch 1\n",
      "\n"
     ]
    },
    {
     "name": "stdout",
     "output_type": "stream",
     "text": [
      "loss: 4.779603  [  512/50000]\n",
      "Test Error: \n",
      " Accuracy: 6.7%, Avg loss: 4.208201 \n",
      " lr: 0.0010452204939138503\n",
      "_______________________________\n",
      "Epoch 2\n",
      "\n",
      "loss: 4.324042  [  512/50000]\n",
      "Test Error: \n",
      " Accuracy: 11.0%, Avg loss: 3.809421 \n",
      " lr: 0.002807419689919391\n",
      "_______________________________\n",
      "Epoch 3\n",
      "\n",
      "loss: 3.972541  [  512/50000]\n",
      "Test Error: \n",
      " Accuracy: 12.7%, Avg loss: 3.678303 \n",
      " lr: 0.00521284465650775\n",
      "_______________________________\n",
      "Epoch 4\n",
      "\n",
      "loss: 3.892446  [  512/50000]\n",
      "Test Error: \n",
      " Accuracy: 14.6%, Avg loss: 3.584964 \n",
      " lr: 0.007614816441589408\n",
      "_______________________________\n",
      "Epoch 5\n",
      "\n",
      "loss: 3.801123  [  512/50000]\n",
      "Test Error: \n",
      " Accuracy: 15.7%, Avg loss: 3.528133 \n",
      " lr: 0.009367584452857063\n",
      "_______________________________\n",
      "Epoch 6\n",
      "\n",
      "loss: 3.684738  [  512/50000]\n",
      "Test Error: \n",
      " Accuracy: 16.8%, Avg loss: 3.484993 \n",
      " lr: 0.009999986892206093\n",
      "_______________________________\n",
      "Epoch 7\n",
      "\n",
      "loss: 3.677624  [  512/50000]\n",
      "Test Error: \n",
      " Accuracy: 17.2%, Avg loss: 3.441665 \n",
      " lr: 0.009872079663939359\n",
      "_______________________________\n",
      "Epoch 8\n",
      "\n",
      "loss: 3.642326  [  512/50000]\n",
      "Test Error: \n",
      " Accuracy: 19.0%, Avg loss: 3.402023 \n",
      " lr: 0.00949986702017326\n",
      "_______________________________\n",
      "Epoch 9\n",
      "\n",
      "loss: 3.521586  [  512/50000]\n",
      "Test Error: \n",
      " Accuracy: 18.8%, Avg loss: 3.379881 \n",
      " lr: 0.008902013257090873\n",
      "_______________________________\n",
      "Epoch 10\n",
      "\n",
      "loss: 3.573676  [  512/50000]\n",
      "Test Error: \n",
      " Accuracy: 19.9%, Avg loss: 3.326628 \n",
      " lr: 0.008108497258793057\n",
      "_______________________________\n",
      "Epoch 11\n",
      "\n",
      "loss: 3.405793  [  512/50000]\n",
      "Test Error: \n",
      " Accuracy: 20.9%, Avg loss: 3.295676 \n",
      " lr: 0.007159109230868716\n",
      "_______________________________\n",
      "Epoch 12\n",
      "\n",
      "loss: 3.332070  [  512/50000]\n",
      "Test Error: \n",
      " Accuracy: 21.2%, Avg loss: 3.271909 \n",
      " lr: 0.006101455453337134\n",
      "_______________________________\n",
      "Epoch 13\n",
      "\n",
      "loss: 3.404084  [  512/50000]\n",
      "Test Error: \n",
      " Accuracy: 21.6%, Avg loss: 3.255296 \n",
      " lr: 0.004988571102981309\n",
      "_______________________________\n",
      "Epoch 14\n",
      "\n",
      "loss: 3.378066  [  512/50000]\n",
      "Test Error: \n",
      " Accuracy: 22.5%, Avg loss: 3.223898 \n",
      " lr: 0.003876260848128433\n",
      "_______________________________\n",
      "Epoch 15\n",
      "\n",
      "loss: 3.376098  [  512/50000]\n",
      "Test Error: \n",
      " Accuracy: 22.8%, Avg loss: 3.199616 \n",
      " lr: 0.0028203005695599634\n",
      "_______________________________\n",
      "Epoch 16\n",
      "\n",
      "loss: 3.202950  [  512/50000]\n",
      "Test Error: \n",
      " Accuracy: 23.2%, Avg loss: 3.182544 \n",
      " lr: 0.0018736405249494478\n",
      "_______________________________\n",
      "Epoch 17\n",
      "\n",
      "loss: 3.250163  [  512/50000]\n",
      "Test Error: \n",
      " Accuracy: 23.8%, Avg loss: 3.160110 \n",
      " lr: 0.0010837502018417589\n",
      "_______________________________\n",
      "Epoch 18\n",
      "\n",
      "loss: 3.356622  [  512/50000]\n",
      "Test Error: \n",
      " Accuracy: 24.1%, Avg loss: 3.148427 \n",
      " lr: 0.0004902379993322584\n",
      "_______________________________\n",
      "Epoch 19\n",
      "\n",
      "loss: 3.195843  [  512/50000]\n",
      "Test Error: \n",
      " Accuracy: 24.2%, Avg loss: 3.143559 \n",
      " lr: 0.0001228650975459045\n",
      "_______________________________\n",
      "Epoch 20\n",
      "\n",
      "loss: 3.243976  [  512/50000]\n",
      "Test Error: \n",
      " Accuracy: 24.1%, Avg loss: 3.140704 \n",
      " lr: 5.3107793906959594e-08\n",
      "_______________________________\n",
      "Done!\n"
     ]
    }
   ],
   "source": [
    "for i in range(epochs):\n",
    "    print(f\"Epoch {i+1}\\n\")\n",
    "    train(train_dataloader, model, loss_fn, optimizer)\n",
    "    test(test_dataloader, model, loss_fn, optimizer)\n",
    "print(\"Done!\")"
   ]
  },
  {
   "cell_type": "markdown",
   "metadata": {},
   "source": [
    "## Plot results"
   ]
  },
  {
   "cell_type": "code",
   "execution_count": 57,
   "metadata": {},
   "outputs": [
    {
     "data": {
      "image/png": "[encoded data removed]",
      "text/plain": [
       "<Figure size 1000x500 with 2 Axes>"
      ]
     },
     "metadata": {},
     "output_type": "display_data"
    }
   ],
   "source": [
    "import matplotlib.pyplot as plt\n",
    "\n",
    "fig, (ax1, ax2) = plt.subplots(1, 2, figsize=(10, 5))\n",
    "\n",
    "ax1.plot(test_loss_history, label='test')\n",
    "ax1.plot(train_loss_history, label='train')\n",
    "ax1.legend()\n",
    "ax1.set_xlabel('epoch')\n",
    "ax1.set_ylabel('loss')\n",
    "ax1.grid()\n",
    "\n",
    "ax2.plot(test_metric_history, label='test')\n",
    "ax2.legend()\n",
    "ax2.set_xlabel('epoch')\n",
    "ax2.set_ylabel('accuracy')\n",
    "ax2.grid()"
   ]
  },
  {
   "cell_type": "code",
   "execution_count": 59,
   "metadata": {},
   "outputs": [
    {
     "data": {
      "image/png": "[encoded data removed]",
      "text/plain": [
       "<Figure size 1000x500 with 1 Axes>"
      ]
     },
     "metadata": {},
     "output_type": "display_data"
    }
   ],
   "source": [
    "fig, ax = plt.subplots(figsize=(10, 5))\n",
    "\n",
    "ax.plot(lr_history)\n",
    "ax.set_xlabel('batch')\n",
    "ax.set_ylabel('lr')\n",
    "ax.set_title('lr vs batch')\n",
    "ax.grid()"
   ]
  }
 ],
 "metadata": {
  "kernelspec": {
   "display_name": "base",
   "language": "python",
   "name": "python3"
  },
  "language_info": {
   "codemirror_mode": {
    "name": "ipython",
    "version": 3
   },
   "file_extension": ".py",
   "mimetype": "text/x-python",
   "name": "python",
   "nbconvert_exporter": "python",
   "pygments_lexer": "ipython3",
   "version": "3.11.5"
  }
 },
 "nbformat": 4,
 "nbformat_minor": 2
}
