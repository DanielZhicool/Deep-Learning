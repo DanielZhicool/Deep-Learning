{
 "cells": [
  {
   "cell_type": "code",
   "execution_count": 1,
   "metadata": {},
   "outputs": [],
   "source": [
    "import numpy as np\n",
    "import torch\n",
    "from torch import nn\n",
    "from torch.utils.data import DataLoader\n",
    "from torchvision import datasets\n",
    "from torchvision.transforms import ToTensor, Compose, Normalize\n",
    "\n",
    "# Ignore warnings\n",
    "import warnings\n",
    "warnings.filterwarnings(\"ignore\")"
   ]
  },
  {
   "cell_type": "markdown",
   "metadata": {},
   "source": [
    "## Device"
   ]
  },
  {
   "cell_type": "code",
   "execution_count": 2,
   "metadata": {},
   "outputs": [
    {
     "data": {
      "text/plain": [
       "_CudaDeviceProperties(name='NVIDIA GeForce GTX 1080 Ti', major=6, minor=1, total_memory=11263MB, multi_processor_count=28)"
      ]
     },
     "execution_count": 2,
     "metadata": {},
     "output_type": "execute_result"
    }
   ],
   "source": [
    "# Get gpu device\n",
    "\n",
    "device = torch.device(\"cuda:0\" if torch.cuda.is_available() else \"cpu\")\n",
    "\n",
    "torch.backends.cudnn.benchmark = True\n",
    "torch.cuda.get_device_properties(0)"
   ]
  },
  {
   "cell_type": "markdown",
   "metadata": {},
   "source": [
    "## Download CIFAR100 dataset"
   ]
  },
  {
   "cell_type": "code",
   "execution_count": 3,
   "metadata": {},
   "outputs": [
    {
     "name": "stdout",
     "output_type": "stream",
     "text": [
      "Files already downloaded and verified\n",
      "Files already downloaded and verified\n"
     ]
    }
   ],
   "source": [
    "# Normalize a tensor image with mean and standard deviation of 0.5\n",
    "transform = Compose([ToTensor(), Normalize([0.5, 0.5, 0.5], [0.5, 0.5, 0.5]).to(device)])\n",
    "\n",
    "# Download train data\n",
    "training_data = datasets.CIFAR100(\n",
    "    root=\"data\",\n",
    "    train=True,\n",
    "    download=True,\n",
    "    transform=transform,\n",
    ")\n",
    "\n",
    "# Download test data\n",
    "test_data = datasets.CIFAR100(\n",
    "    root=\"data\",\n",
    "    train=False,\n",
    "    download=True,\n",
    "    transform=transform,\n",
    ")"
   ]
  },
  {
   "cell_type": "markdown",
   "metadata": {},
   "source": [
    "### Number of classes"
   ]
  },
  {
   "cell_type": "code",
   "execution_count": 4,
   "metadata": {},
   "outputs": [
    {
     "data": {
      "text/plain": [
       "100"
      ]
     },
     "execution_count": 4,
     "metadata": {},
     "output_type": "execute_result"
    }
   ],
   "source": [
    "n_classes = len(test_data.classes)\n",
    "n_classes"
   ]
  },
  {
   "cell_type": "markdown",
   "metadata": {},
   "source": [
    "## Dataloaders"
   ]
  },
  {
   "cell_type": "code",
   "execution_count": 5,
   "metadata": {},
   "outputs": [
    {
     "name": "stdout",
     "output_type": "stream",
     "text": [
      "Shape of X [N, C, H, W]: torch.Size([512, 3, 32, 32])\n",
      "Shape of y: torch.Size([512]) torch.int64\n"
     ]
    }
   ],
   "source": [
    "batch_size = 512\n",
    "image_size = 32 * 32 * 3\n",
    "\n",
    "# Create data loaders.\n",
    "train_dataloader = DataLoader(training_data, batch_size=batch_size, shuffle=True)\n",
    "test_dataloader = DataLoader(test_data, batch_size=batch_size, shuffle=True)\n",
    "for X, y in test_dataloader:\n",
    "    print(f\"Shape of X [N, C, H, W]: {X.shape}\")\n",
    "    print(f\"Shape of y: {y.shape} {y.dtype}\")\n",
    "    break"
   ]
  },
  {
   "cell_type": "code",
   "execution_count": 6,
   "metadata": {},
   "outputs": [
    {
     "name": "stdout",
     "output_type": "stream",
     "text": [
      "50000\n",
      "10000\n"
     ]
    }
   ],
   "source": [
    "print(len(train_dataloader.dataset))\n",
    "print(len(test_dataloader.dataset))"
   ]
  },
  {
   "cell_type": "markdown",
   "metadata": {},
   "source": [
    "## Define model"
   ]
  },
  {
   "cell_type": "code",
   "execution_count": 7,
   "metadata": {},
   "outputs": [
    {
     "name": "stdout",
     "output_type": "stream",
     "text": [
      "Using cuda:0 device\n",
      "NeuralNetwork(\n",
      "  (flatten): Flatten(start_dim=1, end_dim=-1)\n",
      "  (layers): Sequential(\n",
      "    (0): Linear(in_features=3072, out_features=1024, bias=True)\n",
      "    (1): BatchNorm1d(1024, eps=1e-05, momentum=0.1, affine=True, track_running_stats=True)\n",
      "    (2): ReLU()\n",
      "    (3): Dropout(p=0.15, inplace=False)\n",
      "    (4): Linear(in_features=1024, out_features=512, bias=True)\n",
      "    (5): BatchNorm1d(512, eps=1e-05, momentum=0.1, affine=True, track_running_stats=True)\n",
      "    (6): ReLU()\n",
      "    (7): Dropout(p=0.15, inplace=False)\n",
      "    (8): Linear(in_features=512, out_features=256, bias=True)\n",
      "    (9): BatchNorm1d(256, eps=1e-05, momentum=0.1, affine=True, track_running_stats=True)\n",
      "    (10): ReLU()\n",
      "    (11): Dropout(p=0.15, inplace=False)\n",
      "    (12): Linear(in_features=256, out_features=128, bias=True)\n",
      "    (13): BatchNorm1d(128, eps=1e-05, momentum=0.1, affine=True, track_running_stats=True)\n",
      "    (14): ReLU()\n",
      "    (15): Dropout(p=0.15, inplace=False)\n",
      "    (16): Linear(in_features=128, out_features=100, bias=True)\n",
      "  )\n",
      ")\n"
     ]
    }
   ],
   "source": [
    "\n",
    "print(f\"Using {device} device\")\n",
    "\n",
    "class NeuralNetwork(nn.Module):\n",
    "    def __init__(self, hidden_layers=[512, 256, 128], activations=[nn.ReLU(), nn.ReLU(), nn.ReLU()], batch_norm=[False, False, False], dropout=[0, 0, 0]):\n",
    "        super().__init__()\n",
    "    \n",
    "        self.flatten = nn.Flatten()\n",
    "\n",
    "        layers = []\n",
    "\n",
    "        layers.append(nn.Linear(image_size, hidden_layers[0]))\n",
    "        layers.append(nn.BatchNorm1d(hidden_layers[0]))\n",
    "        layers.append(activations[0])\n",
    "        layers.append(nn.Dropout(dropout[0]))\n",
    "        \n",
    "        for i in range(len(hidden_layers)-1):\n",
    "            layers.append(nn.Linear(hidden_layers[i], hidden_layers[i+1]))\n",
    "            layers.append(nn.BatchNorm1d(hidden_layers[i+1]))\n",
    "            layers.append(activations[i+1])\n",
    "            layers.append(nn.Dropout(dropout[i+1]))\n",
    "            \n",
    "        layers.append(nn.Linear(hidden_layers[-1], n_classes))\n",
    "        \n",
    "        self.layers = nn.Sequential(*layers)\n",
    "\n",
    "    def forward(self, x):\n",
    "        x = self.flatten(x)\n",
    "        logits = self.layers(x)\n",
    "        return logits\n",
    "\n",
    "model = NeuralNetwork(hidden_layers = [1024, 512, 256, 128], activations=[nn.ReLU(), nn.ReLU(), nn.ReLU(), nn.ReLU()], batch_norm=[True]*4, dropout=[0.15]*4).to(device)\n",
    "print(model)"
   ]
  },
  {
   "cell_type": "markdown",
   "metadata": {},
   "source": [
    "## Define optimizer and loss function"
   ]
  },
  {
   "cell_type": "code",
   "execution_count": 8,
   "metadata": {},
   "outputs": [],
   "source": [
    "loss_fn = nn.CrossEntropyLoss()\n",
    "optimizer = torch.optim.Adam(model.parameters(), lr=0.1)"
   ]
  },
  {
   "cell_type": "markdown",
   "metadata": {},
   "source": [
    "### Learning rate schedule"
   ]
  },
  {
   "cell_type": "code",
   "execution_count": 9,
   "metadata": {},
   "outputs": [],
   "source": [
    "import torch.optim.lr_scheduler as lr_scheduler\n",
    "\n",
    "epochs = 25\n",
    "\n",
    "scheduler = lr_scheduler.LinearLR(optimizer, start_factor=1, end_factor=1e-1, total_iters=epochs)"
   ]
  },
  {
   "cell_type": "markdown",
   "metadata": {},
   "source": [
    "## Training loop"
   ]
  },
  {
   "cell_type": "code",
   "execution_count": 10,
   "metadata": {},
   "outputs": [],
   "source": [
    "train_loss_history = []\n",
    "train_lr_history = []"
   ]
  },
  {
   "cell_type": "code",
   "execution_count": 11,
   "metadata": {},
   "outputs": [],
   "source": [
    "def train(dataloader, model, loss_fn, optimizer):\n",
    "    size = len(dataloader.dataset)\n",
    "    model.train()\n",
    "    train_loss = 0\n",
    "\n",
    "    for batch, (X, y) in enumerate(dataloader):\n",
    "        X, y = X.to(device), y.to(device)\n",
    "\n",
    "        # Compute prediction error\n",
    "        pred = model(X)\n",
    "        loss = loss_fn(pred, y)\n",
    "        train_loss += loss.item()\n",
    "\n",
    "        # Backpropagation\n",
    "        loss.backward()\n",
    "        optimizer.step()\n",
    "        optimizer.zero_grad()\n",
    "\n",
    "        if batch % 100 == 0:\n",
    "            loss, current = loss.item(), (batch + 1) * len(X)\n",
    "            print(f\"loss: {loss:>7f}  [{current:>5d}/{size:>5d}]\")\n",
    "            \n",
    "            train_lr_history.append(optimizer.param_groups[0]['lr'])\n",
    "\n",
    "    train_loss /= len(dataloader)\n",
    "    train_loss_history.append(train_loss)\n",
    "\n",
    "            \n",
    "    # scheduler.step()"
   ]
  },
  {
   "cell_type": "code",
   "execution_count": 12,
   "metadata": {},
   "outputs": [],
   "source": [
    "test_loss_history = []\n",
    "test_metric_history = []"
   ]
  },
  {
   "cell_type": "code",
   "execution_count": 13,
   "metadata": {},
   "outputs": [],
   "source": [
    "def test(dataloader, model, loss_fn, optimizer):\n",
    "    size = len(dataloader.dataset)\n",
    "    num_batches = len(dataloader)\n",
    "    model.eval()\n",
    "    test_loss, correct = 0, 0\n",
    "    with torch.no_grad():\n",
    "        for X, y in dataloader:\n",
    "            X, y = X.to(device), y.to(device)\n",
    "            pred = model(X)\n",
    "            test_loss += loss_fn(pred, y).item()\n",
    "            correct += (pred.argmax(1) == y).type(torch.float).sum().item()\n",
    "    test_loss /= num_batches\n",
    "    correct /= size\n",
    "    test_loss_history.append(test_loss)\n",
    "    test_metric_history.append(correct * 100)\n",
    "    \n",
    "\n",
    "    print(f\"Test Error: \\n Accuracy: {(100*correct):>0.1f}%, Avg loss: {test_loss:>8f} \\n lr: {optimizer.param_groups[0]['lr']}\")\n",
    "    print(\"_______________________________\")"
   ]
  },
  {
   "cell_type": "code",
   "execution_count": 14,
   "metadata": {},
   "outputs": [
    {
     "name": "stdout",
     "output_type": "stream",
     "text": [
      "Epoch 1\n",
      "\n",
      "loss: 4.698988  [  512/50000]\n",
      "Test Error: \n",
      " Accuracy: 8.3%, Avg loss: 3.947093 \n",
      " lr: 0.1\n",
      "_______________________________\n",
      "Epoch 2\n",
      "\n",
      "loss: 3.932286  [  512/50000]\n",
      "Test Error: \n",
      " Accuracy: 11.7%, Avg loss: 3.792297 \n",
      " lr: 0.1\n",
      "_______________________________\n",
      "Epoch 3\n",
      "\n",
      "loss: 3.911074  [  512/50000]\n",
      "Test Error: \n",
      " Accuracy: 13.2%, Avg loss: 3.689916 \n",
      " lr: 0.1\n",
      "_______________________________\n",
      "Epoch 4\n",
      "\n",
      "loss: 3.849250  [  512/50000]\n",
      "Test Error: \n",
      " Accuracy: 13.7%, Avg loss: 3.667036 \n",
      " lr: 0.1\n",
      "_______________________________\n",
      "Epoch 5\n",
      "\n",
      "loss: 3.628152  [  512/50000]\n",
      "Test Error: \n",
      " Accuracy: 15.8%, Avg loss: 3.581080 \n",
      " lr: 0.1\n",
      "_______________________________\n",
      "Epoch 6\n",
      "\n",
      "loss: 3.622443  [  512/50000]\n",
      "Test Error: \n",
      " Accuracy: 15.7%, Avg loss: 3.540389 \n",
      " lr: 0.1\n",
      "_______________________________\n",
      "Epoch 7\n",
      "\n",
      "loss: 3.561187  [  512/50000]\n",
      "Test Error: \n",
      " Accuracy: 16.2%, Avg loss: 3.485083 \n",
      " lr: 0.1\n",
      "_______________________________\n",
      "Epoch 8\n",
      "\n",
      "loss: 3.590542  [  512/50000]\n",
      "Test Error: \n",
      " Accuracy: 17.1%, Avg loss: 3.497867 \n",
      " lr: 0.1\n",
      "_______________________________\n",
      "Epoch 9\n",
      "\n",
      "loss: 3.661647  [  512/50000]\n",
      "Test Error: \n",
      " Accuracy: 17.7%, Avg loss: 3.454419 \n",
      " lr: 0.1\n",
      "_______________________________\n",
      "Epoch 10\n",
      "\n",
      "loss: 3.443815  [  512/50000]\n",
      "Test Error: \n",
      " Accuracy: 18.4%, Avg loss: 3.410235 \n",
      " lr: 0.1\n",
      "_______________________________\n",
      "Epoch 11\n",
      "\n",
      "loss: 3.360297  [  512/50000]\n",
      "Test Error: \n",
      " Accuracy: 19.0%, Avg loss: 3.406123 \n",
      " lr: 0.1\n",
      "_______________________________\n",
      "Epoch 12\n",
      "\n",
      "loss: 3.466022  [  512/50000]\n",
      "Test Error: \n",
      " Accuracy: 18.9%, Avg loss: 3.394417 \n",
      " lr: 0.1\n",
      "_______________________________\n",
      "Epoch 13\n",
      "\n",
      "loss: 3.468480  [  512/50000]\n",
      "Test Error: \n",
      " Accuracy: 19.6%, Avg loss: 3.335288 \n",
      " lr: 0.1\n",
      "_______________________________\n",
      "Epoch 14\n",
      "\n",
      "loss: 3.288778  [  512/50000]\n",
      "Test Error: \n",
      " Accuracy: 20.2%, Avg loss: 3.326362 \n",
      " lr: 0.1\n",
      "_______________________________\n",
      "Epoch 15\n",
      "\n",
      "loss: 3.331148  [  512/50000]\n",
      "Test Error: \n",
      " Accuracy: 20.5%, Avg loss: 3.315737 \n",
      " lr: 0.1\n",
      "_______________________________\n",
      "Epoch 16\n",
      "\n",
      "loss: 3.359174  [  512/50000]\n",
      "Test Error: \n",
      " Accuracy: 21.4%, Avg loss: 3.300356 \n",
      " lr: 0.1\n",
      "_______________________________\n",
      "Epoch 17\n",
      "\n",
      "loss: 3.236429  [  512/50000]\n",
      "Test Error: \n",
      " Accuracy: 20.3%, Avg loss: 3.320238 \n",
      " lr: 0.1\n",
      "_______________________________\n",
      "Epoch 18\n",
      "\n",
      "loss: 3.230953  [  512/50000]\n",
      "Test Error: \n",
      " Accuracy: 21.8%, Avg loss: 3.269769 \n",
      " lr: 0.1\n",
      "_______________________________\n",
      "Epoch 19\n",
      "\n",
      "loss: 3.294240  [  512/50000]\n",
      "Test Error: \n",
      " Accuracy: 20.3%, Avg loss: 3.311283 \n",
      " lr: 0.1\n",
      "_______________________________\n",
      "Epoch 20\n",
      "\n",
      "loss: 3.268945  [  512/50000]\n",
      "Test Error: \n",
      " Accuracy: 21.3%, Avg loss: 3.274278 \n",
      " lr: 0.1\n",
      "_______________________________\n",
      "Epoch 21\n",
      "\n",
      "loss: 3.068124  [  512/50000]\n",
      "Test Error: \n",
      " Accuracy: 21.5%, Avg loss: 3.299582 \n",
      " lr: 0.1\n",
      "_______________________________\n",
      "Epoch 22\n",
      "\n",
      "loss: 3.207692  [  512/50000]\n",
      "Test Error: \n",
      " Accuracy: 21.5%, Avg loss: 3.259531 \n",
      " lr: 0.1\n",
      "_______________________________\n",
      "Epoch 23\n",
      "\n",
      "loss: 3.112848  [  512/50000]\n",
      "Test Error: \n",
      " Accuracy: 21.6%, Avg loss: 3.266570 \n",
      " lr: 0.1\n",
      "_______________________________\n",
      "Epoch 24\n",
      "\n",
      "loss: 3.160662  [  512/50000]\n",
      "Test Error: \n",
      " Accuracy: 21.8%, Avg loss: 3.281391 \n",
      " lr: 0.1\n",
      "_______________________________\n",
      "Epoch 25\n",
      "\n",
      "loss: 3.079278  [  512/50000]\n",
      "Test Error: \n",
      " Accuracy: 22.5%, Avg loss: 3.272599 \n",
      " lr: 0.1\n",
      "_______________________________\n",
      "Done!\n"
     ]
    }
   ],
   "source": [
    "for i in range(epochs):\n",
    "    print(f\"Epoch {i+1}\\n\")\n",
    "    train(train_dataloader, model, loss_fn, optimizer)\n",
    "    test(test_dataloader, model, loss_fn, optimizer)\n",
    "print(\"Done!\")"
   ]
  },
  {
   "cell_type": "markdown",
   "metadata": {},
   "source": []
  },
  {
   "cell_type": "code",
   "execution_count": 15,
   "metadata": {},
   "outputs": [
    {
     "data": {
      "image/png": "[encoded data removed]",
      "text/plain": [
       "<Figure size 1000x500 with 2 Axes>"
      ]
     },
     "metadata": {},
     "output_type": "display_data"
    }
   ],
   "source": [
    "import matplotlib.pyplot as plt\n",
    "\n",
    "fig, (ax1, ax2) = plt.subplots(1, 2, figsize=(10, 5))\n",
    "\n",
    "ax1.plot(test_loss_history, label='test')\n",
    "ax1.plot(train_loss_history, label='train')\n",
    "ax1.legend()\n",
    "ax1.set_xlabel('epoch')\n",
    "ax1.set_ylabel('loss')\n",
    "ax1.grid()\n",
    "\n",
    "ax2.plot(test_metric_history, label='test')\n",
    "ax2.legend()\n",
    "ax2.set_xlabel('epoch')\n",
    "ax2.set_ylabel('accuracy')\n",
    "ax2.grid()"
   ]
  },
  {
   "cell_type": "code",
   "execution_count": null,
   "metadata": {},
   "outputs": [],
   "source": []
  }
 ],
 "metadata": {
  "kernelspec": {
   "display_name": "base",
   "language": "python",
   "name": "python3"
  },
  "language_info": {
   "codemirror_mode": {
    "name": "ipython",
    "version": 3
   },
   "file_extension": ".py",
   "mimetype": "text/x-python",
   "name": "python",
   "nbconvert_exporter": "python",
   "pygments_lexer": "ipython3",
   "version": "3.11.5"
  }
 },
 "nbformat": 4,
 "nbformat_minor": 2
}
