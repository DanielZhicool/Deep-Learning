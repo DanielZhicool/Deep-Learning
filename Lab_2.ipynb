{
 "cells": [
  {
   "cell_type": "markdown",
   "id": "7068f145-1394-45d8-8fe5-a4fdf4f9e1ec",
   "metadata": {},
   "source": [
    "# Backpropagation handmade"
   ]
  },
  {
   "cell_type": "code",
   "execution_count": 1,
   "id": "1d2bc8d1-abfa-467e-aec9-bf58ae3cb597",
   "metadata": {},
   "outputs": [],
   "source": [
    "# 1. Build the class for math expressions\n",
    "# 2. Build some basic operations\n",
    "# 3. Build computation graph\n",
    "# 4. Build some activations\n",
    "# 5. Build backpropagation"
   ]
  },
  {
   "cell_type": "code",
   "execution_count": 2,
   "id": "2fe5f0f2-904f-4ab1-ac87-74622c99f326",
   "metadata": {},
   "outputs": [],
   "source": [
    "# inspired by (and 80% copied from :)) micrograd / Andrej Karpathy\n",
    "# https://www.youtube.com/watch?v=VMj-3S1tku0&list=PLAqhIrjkxbuWI23v9cThsA9GvCAUhRvKZ"
   ]
  },
  {
   "cell_type": "code",
   "execution_count": 4,
   "id": "f10e0756-975b-4e33-9ff5-ccaa92435596",
   "metadata": {},
   "outputs": [],
   "source": [
    "import numpy as np\n",
    "import math\n",
    "import matplotlib.pyplot as plt"
   ]
  },
  {
   "cell_type": "code",
   "execution_count": 63,
   "id": "2090da17-3cbe-4551-9104-73e02ae1f7d4",
   "metadata": {},
   "outputs": [],
   "source": [
    "class Parameter:\n",
    "    def __init__(self, value: float, name: str, children=()) -> None:\n",
    "        self._value = value\n",
    "        self._name = name\n",
    "\n",
    "        self._grad = 0.0\n",
    "        self._backward = lambda: None\n",
    "\n",
    "        self._prev = set(children)\n",
    "\n",
    "    def __repr__(self) -> str:\n",
    "        return f\"Parameter {self._name} = {self._value}; dL/d[{self._name}] = {self._grad}\"\n",
    "\n",
    "    def __mul__(self, other):\n",
    "        result = Parameter(\n",
    "            self._value * other._value,\n",
    "            f'{self._name} * {other._name}',\n",
    "            (self, other)\n",
    "        )\n",
    "\n",
    "        def _backward():\n",
    "            self._grad += other._value * result._grad #dL / dself\n",
    "            other._grad += self._value * result._grad # dL / dother\n",
    "\n",
    "        result._backward = _backward\n",
    "\n",
    "        return result\n",
    "\n",
    "    def __add__(self, other):\n",
    "        result = Parameter(\n",
    "            self._value + other._value,\n",
    "            f'[{self._name} + {other._name}]',\n",
    "            (self, other)\n",
    "        )\n",
    "\n",
    "        def _backward():\n",
    "            self._grad += 1.0 * result._grad  #dL / dself\n",
    "            other._grad += 1.0 * result._grad # dL / dother\n",
    "\n",
    "        result._backward = _backward\n",
    "\n",
    "        return result\n",
    "\n",
    "    def sigmoid(self):\n",
    "        # f(x) = 1 / (1 + exp(self._value))\n",
    "        # f'(x) = f(x) * (1 - f(x))\n",
    "\n",
    "        val = 1.0 / (1.0 + math.exp(-self._value))\n",
    "\n",
    "        result = Parameter(\n",
    "            val,\n",
    "            f\"σ({self._name})\",\n",
    "            (self, )\n",
    "        )\n",
    "\n",
    "        def _backward():\n",
    "            self._grad = result._grad * val * (1 - val)\n",
    "\n",
    "        result._backward = _backward\n",
    "\n",
    "        return result\n",
    "    \n",
    "    def gelu(self):\n",
    "        val = 0.5 * self._value * (1 + np.tanh(np.sqrt(2/np.pi) * (self._value + 0.044715 * self._value ** 3)))\n",
    "\n",
    "        result = Parameter(\n",
    "            val,\n",
    "            f\"gelu({self._name})\",\n",
    "            (self, )\n",
    "        )\n",
    "\n",
    "        def _backward():\n",
    "            self._grad = result._grad * 0.5 * (1 + np.tanh(np.sqrt(2/np.pi) * (self._value + 0.044715 * np.power(self._value, 3)))) + 0.5 * self._value / np.power(np.cosh(np.sqrt(2/np.pi) * (self._value + 0.044715 * np.power(self._value, 3))), 2) * np.sqrt(2/np.pi) * (1 + 3 * 0.044715 * np.power(self._value, 2))\n",
    "\n",
    "        result._backward = _backward\n",
    "\n",
    "        return result\n",
    "\n",
    "    def relu(self):\n",
    "        val = np.maximum(0, self._value)\n",
    "\n",
    "        result = Parameter(\n",
    "            val,\n",
    "            f\"relu({self._name})\",\n",
    "            (self, )\n",
    "        )\n",
    "\n",
    "        def _backward():\n",
    "            self._grad = result._grad * np.array(self._value >= 0).astype(np.float64)\n",
    "        \n",
    "        result._backward = _backward\n",
    "\n",
    "        return result\n",
    "\n",
    "    def backward(self):\n",
    "       sorted = []\n",
    "       visited = set()\n",
    "       def topoligical_sort(v):\n",
    "           if v not in visited:\n",
    "               visited.add(v)\n",
    "               for child in v._prev:\n",
    "                   topoligical_sort(child)\n",
    "               sorted.append(v)\n",
    "       topoligical_sort(self)\n",
    "\n",
    "       self._grad = 1.0\n",
    "       for node in reversed(sorted):\n",
    "           node._backward()\n",
    "\n",
    "    \n",
    "\n",
    "    \n",
    "        \n",
    "# def sgd(...) -> ...:\n",
    "#     # LAB 2 TASK 3: YOUR CODE GOES HERE"
   ]
  },
  {
   "cell_type": "code",
   "execution_count": 30,
   "id": "27fd73e5-da08-4969-9038-935b2d17f2d2",
   "metadata": {},
   "outputs": [],
   "source": [
    "a = Parameter(9.0, 'a')\n",
    "b = Parameter(2.0, 'b')\n",
    "c = Parameter(5.0, 'c')\n",
    "d = Parameter(5.0, 'd')"
   ]
  },
  {
   "cell_type": "code",
   "execution_count": 31,
   "id": "417e6a53-da64-4506-902f-5330a5463a5b",
   "metadata": {},
   "outputs": [
    {
     "name": "stdout",
     "output_type": "stream",
     "text": [
      "Parameter a = 9.0; dL/d[a] = 0.0\n",
      "Parameter b = 2.0; dL/d[b] = 0.0\n",
      "Parameter c = 5.0; dL/d[c] = 0.0\n",
      "Parameter d = 5.0; dL/d[d] = 0.0\n"
     ]
    }
   ],
   "source": [
    "print(a)\n",
    "print(b)\n",
    "print(c)\n",
    "print(d)"
   ]
  },
  {
   "cell_type": "code",
   "execution_count": 32,
   "id": "a2f9a3a6-b195-46df-9697-52b0b61fe6c8",
   "metadata": {},
   "outputs": [],
   "source": [
    "u = a * b\n",
    "v = u + c\n",
    "L = v * d"
   ]
  },
  {
   "cell_type": "code",
   "execution_count": 33,
   "id": "a1f05eb6-0cb4-4462-bbcc-a6ac4103e0ea",
   "metadata": {},
   "outputs": [
    {
     "data": {
      "text/plain": [
       "(Parameter a * b = 18.0; dL/d[a * b] = 0.0,\n",
       " Parameter [a * b + c] = 23.0; dL/d[[a * b + c]] = 0.0,\n",
       " Parameter [a * b + c] * d = 115.0; dL/d[[a * b + c] * d] = 0.0)"
      ]
     },
     "execution_count": 33,
     "metadata": {},
     "output_type": "execute_result"
    }
   ],
   "source": [
    "u, v, L"
   ]
  },
  {
   "cell_type": "code",
   "execution_count": 34,
   "id": "76375c56",
   "metadata": {},
   "outputs": [],
   "source": [
    "L.backward()"
   ]
  },
  {
   "cell_type": "code",
   "execution_count": 35,
   "id": "1cc17795-a494-4883-a79f-8a788ef0877c",
   "metadata": {},
   "outputs": [],
   "source": [
    "# L._grad = 1.0\n",
    "# L._backward()"
   ]
  },
  {
   "cell_type": "code",
   "execution_count": 36,
   "id": "54e948ad-4ec5-48e0-9f79-743dc3ebdf84",
   "metadata": {},
   "outputs": [
    {
     "name": "stdout",
     "output_type": "stream",
     "text": [
      "Parameter [a * b + c] * d = 115.0; dL/d[[a * b + c] * d] = 1.0\n"
     ]
    }
   ],
   "source": [
    "print(L)"
   ]
  },
  {
   "cell_type": "code",
   "execution_count": 37,
   "id": "0b305aa1-c242-4a46-8019-f44f7c03e1af",
   "metadata": {},
   "outputs": [
    {
     "name": "stdout",
     "output_type": "stream",
     "text": [
      "Parameter [a * b + c] = 23.0; dL/d[[a * b + c]] = 5.0\n",
      "Parameter d = 5.0; dL/d[d] = 23.0\n"
     ]
    }
   ],
   "source": [
    "print(v)\n",
    "print(d)"
   ]
  },
  {
   "cell_type": "code",
   "execution_count": 38,
   "id": "1d23431c",
   "metadata": {},
   "outputs": [
    {
     "name": "stdout",
     "output_type": "stream",
     "text": [
      "Parameter a = 9.0; dL/d[a] = 10.0\n",
      "Parameter b = 2.0; dL/d[b] = 45.0\n",
      "Parameter c = 5.0; dL/d[c] = 5.0\n",
      "Parameter a * b = 18.0; dL/d[a * b] = 5.0\n"
     ]
    }
   ],
   "source": [
    "print(a)\n",
    "print(b)\n",
    "print(c)\n",
    "print(u)"
   ]
  },
  {
   "cell_type": "code",
   "execution_count": 64,
   "id": "1d0c4bf9-8310-4a7a-99b3-3a00187f7e65",
   "metadata": {},
   "outputs": [],
   "source": [
    "x = Parameter(4.0, 'x')\n",
    "\n",
    "f = x + x\n",
    "\n",
    "f._grad = 1.0\n",
    "f._backward()"
   ]
  },
  {
   "cell_type": "code",
   "execution_count": 65,
   "id": "25210b68-b2d2-4092-8c63-4b28028ec0a9",
   "metadata": {},
   "outputs": [
    {
     "name": "stdout",
     "output_type": "stream",
     "text": [
      "Parameter [x + x] = 8.0; dL/d[[x + x]] = 1.0\n",
      "Parameter x = 4.0; dL/d[x] = 2.0\n"
     ]
    }
   ],
   "source": [
    "print(f)\n",
    "print(x)"
   ]
  },
  {
   "cell_type": "code",
   "execution_count": 66,
   "id": "2d3b7d20-2402-4074-9e45-39758425de21",
   "metadata": {},
   "outputs": [],
   "source": [
    "x1 = Parameter(3.0, 'x1')\n",
    "x2 = Parameter(4.0, 'x2')\n",
    "\n",
    "w1 = Parameter(1.0, 'w1')\n",
    "w2 = Parameter(2.0, 'w2')\n",
    "\n",
    "x1w1 = x1 * w1\n",
    "x2w2 = x2 * w2\n",
    "xw = x1w1 + x2w2\n",
    "out = xw.relu()"
   ]
  },
  {
   "cell_type": "code",
   "execution_count": 67,
   "id": "e4002593-c87e-48f1-b20b-7f6d4d627d4e",
   "metadata": {},
   "outputs": [
    {
     "name": "stdout",
     "output_type": "stream",
     "text": [
      "Parameter relu([x1 * w1 + x2 * w2]) = 11.0; dL/d[relu([x1 * w1 + x2 * w2])] = 1.0\n",
      "Parameter [x1 * w1 + x2 * w2] = 11.0; dL/d[[x1 * w1 + x2 * w2]] = 1.0\n",
      "Parameter x1 * w1 = 3.0; dL/d[x1 * w1] = 1.0\n",
      "Parameter x2 * w2 = 8.0; dL/d[x2 * w2] = 1.0\n",
      "Parameter w1 = 1.0; dL/d[w1] = 3.0\n",
      "Parameter w2 = 2.0; dL/d[w2] = 4.0\n"
     ]
    }
   ],
   "source": [
    "# out.grad = 1\n",
    "out.backward()\n",
    "\n",
    "print(out)\n",
    "print(xw)\n",
    "print(x1w1)\n",
    "print(x2w2)\n",
    "print(w1)\n",
    "print(w2)"
   ]
  },
  {
   "cell_type": "code",
   "execution_count": 27,
   "id": "6f72f44e-0534-4eb8-a4d6-7a806e9cd392",
   "metadata": {},
   "outputs": [],
   "source": [
    "xw._backward()"
   ]
  },
  {
   "cell_type": "code",
   "execution_count": 28,
   "id": "55a48f22-b250-4887-8caa-8a35a79004db",
   "metadata": {},
   "outputs": [
    {
     "name": "stdout",
     "output_type": "stream",
     "text": [
      "Parameter x1 * w1 = 3.0; dL/d[x1 * w1] = 1.670114291046157e-05\n",
      "Parameter x2 * w2 = 8.0; dL/d[x2 * w2] = 1.670114291046157e-05\n"
     ]
    }
   ],
   "source": [
    "print(x1w1)\n",
    "print(x2w2)"
   ]
  },
  {
   "cell_type": "code",
   "execution_count": 29,
   "id": "e5b1af4c-8b07-4a43-b5ec-d346865420c7",
   "metadata": {},
   "outputs": [],
   "source": [
    "x1w1._backward()\n",
    "x2w2._backward()"
   ]
  },
  {
   "cell_type": "code",
   "execution_count": 30,
   "id": "69c36655-876b-4aaf-ae54-a330f8b11f90",
   "metadata": {},
   "outputs": [
    {
     "name": "stdout",
     "output_type": "stream",
     "text": [
      "Parameter x1 = 3.0; dL/d[x1] = 1.670114291046157e-05\n",
      "Parameter w1 = 1.0; dL/d[w1] = 5.010342873138471e-05\n",
      "Parameter x2 = 4.0; dL/d[x2] = 3.340228582092314e-05\n",
      "Parameter w2 = 2.0; dL/d[w2] = 6.680457164184628e-05\n"
     ]
    }
   ],
   "source": [
    "print(x1)\n",
    "print(w1)\n",
    "print(x2)\n",
    "print(w2)\n"
   ]
  },
  {
   "cell_type": "code",
   "execution_count": null,
   "id": "0ed98bb3-c8e3-471c-bcd2-70f89d6410f3",
   "metadata": {},
   "outputs": [],
   "source": []
  },
  {
   "cell_type": "code",
   "execution_count": null,
   "id": "6457d969",
   "metadata": {},
   "outputs": [],
   "source": []
  },
  {
   "cell_type": "code",
   "execution_count": null,
   "id": "f499775a",
   "metadata": {},
   "outputs": [],
   "source": []
  },
  {
   "cell_type": "code",
   "execution_count": null,
   "id": "9dd33029",
   "metadata": {},
   "outputs": [],
   "source": []
  }
 ],
 "metadata": {
  "kernelspec": {
   "display_name": "Python 3 (ipykernel)",
   "language": "python",
   "name": "python3"
  },
  "language_info": {
   "codemirror_mode": {
    "name": "ipython",
    "version": 3
   },
   "file_extension": ".py",
   "mimetype": "text/x-python",
   "name": "python",
   "nbconvert_exporter": "python",
   "pygments_lexer": "ipython3",
   "version": "3.11.5"
  }
 },
 "nbformat": 4,
 "nbformat_minor": 5
}
