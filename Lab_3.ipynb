{
 "cells": [
  {
   "cell_type": "code",
   "execution_count": 1,
   "metadata": {},
   "outputs": [],
   "source": [
    "import numpy as np\n",
    "import torch\n",
    "from torch import nn\n",
    "from torch.utils.data import DataLoader\n",
    "from torchvision import datasets\n",
    "from torchvision.transforms import ToTensor, Compose, Normalize\n",
    "\n",
    "# Ignore warnings\n",
    "import warnings\n",
    "warnings.filterwarnings(\"ignore\")"
   ]
  },
  {
   "cell_type": "markdown",
   "metadata": {},
   "source": [
    "## Device"
   ]
  },
  {
   "cell_type": "code",
   "execution_count": 2,
   "metadata": {},
   "outputs": [
    {
     "data": {
      "text/plain": [
       "_CudaDeviceProperties(name='NVIDIA GeForce GTX 1080 Ti', major=6, minor=1, total_memory=11263MB, multi_processor_count=28)"
      ]
     },
     "execution_count": 2,
     "metadata": {},
     "output_type": "execute_result"
    }
   ],
   "source": [
    "# Get gpu device\n",
    "\n",
    "device = torch.device(\"cuda:0\" if torch.cuda.is_available() else \"cpu\")\n",
    "\n",
    "torch.backends.cudnn.benchmark = True\n",
    "torch.cuda.get_device_properties(0)"
   ]
  },
  {
   "cell_type": "markdown",
   "metadata": {},
   "source": [
    "## Download CIFAR100 dataset"
   ]
  },
  {
   "cell_type": "code",
   "execution_count": 3,
   "metadata": {},
   "outputs": [
    {
     "name": "stdout",
     "output_type": "stream",
     "text": [
      "Files already downloaded and verified\n",
      "Files already downloaded and verified\n"
     ]
    }
   ],
   "source": [
    "# Normalize a tensor image with mean and standard deviation of 0.5\n",
    "transform = Compose([ToTensor(), Normalize([0.5, 0.5, 0.5], [0.5, 0.5, 0.5]).to(device)])\n",
    "\n",
    "# Download train data\n",
    "training_data = datasets.CIFAR100(\n",
    "    root=\"data\",\n",
    "    train=True,\n",
    "    download=True,\n",
    "    transform=transform,\n",
    ")\n",
    "\n",
    "# Download test data\n",
    "test_data = datasets.CIFAR100(\n",
    "    root=\"data\",\n",
    "    train=False,\n",
    "    download=True,\n",
    "    transform=transform,\n",
    ")"
   ]
  },
  {
   "cell_type": "markdown",
   "metadata": {},
   "source": [
    "### Number of classes"
   ]
  },
  {
   "cell_type": "code",
   "execution_count": 4,
   "metadata": {},
   "outputs": [
    {
     "data": {
      "text/plain": [
       "100"
      ]
     },
     "execution_count": 4,
     "metadata": {},
     "output_type": "execute_result"
    }
   ],
   "source": [
    "n_classes = len(test_data.classes)\n",
    "n_classes"
   ]
  },
  {
   "cell_type": "markdown",
   "metadata": {},
   "source": [
    "## Dataloaders"
   ]
  },
  {
   "cell_type": "code",
   "execution_count": 5,
   "metadata": {},
   "outputs": [
    {
     "name": "stdout",
     "output_type": "stream",
     "text": [
      "Shape of X [N, C, H, W]: torch.Size([256, 3, 32, 32])\n",
      "Shape of y: torch.Size([256]) torch.int64\n"
     ]
    }
   ],
   "source": [
    "batch_size = 256\n",
    "image_size = 32 * 32 * 3\n",
    "\n",
    "# Create data loaders.\n",
    "train_dataloader = DataLoader(training_data, batch_size=batch_size, shuffle=True)\n",
    "test_dataloader = DataLoader(test_data, batch_size=batch_size, shuffle=True)\n",
    "for X, y in test_dataloader:\n",
    "    print(f\"Shape of X [N, C, H, W]: {X.shape}\")\n",
    "    print(f\"Shape of y: {y.shape} {y.dtype}\")\n",
    "    break"
   ]
  },
  {
   "cell_type": "code",
   "execution_count": 6,
   "metadata": {},
   "outputs": [
    {
     "name": "stdout",
     "output_type": "stream",
     "text": [
      "50000\n",
      "10000\n"
     ]
    }
   ],
   "source": [
    "print(len(train_dataloader.dataset))\n",
    "print(len(test_dataloader.dataset))"
   ]
  },
  {
   "cell_type": "markdown",
   "metadata": {},
   "source": [
    "## Define model"
   ]
  },
  {
   "cell_type": "code",
   "execution_count": 7,
   "metadata": {},
   "outputs": [
    {
     "name": "stdout",
     "output_type": "stream",
     "text": [
      "Using cuda:0 device\n",
      "NeuralNetwork(\n",
      "  (flatten): Flatten(start_dim=1, end_dim=-1)\n",
      "  (layers): Sequential(\n",
      "    (0): Linear(in_features=3072, out_features=1024, bias=True)\n",
      "    (1): BatchNorm1d(1024, eps=1e-05, momentum=0.1, affine=True, track_running_stats=True)\n",
      "    (2): ReLU()\n",
      "    (3): Linear(in_features=1024, out_features=512, bias=True)\n",
      "    (4): BatchNorm1d(512, eps=1e-05, momentum=0.1, affine=True, track_running_stats=True)\n",
      "    (5): ReLU()\n",
      "    (6): Linear(in_features=512, out_features=256, bias=True)\n",
      "    (7): BatchNorm1d(256, eps=1e-05, momentum=0.1, affine=True, track_running_stats=True)\n",
      "    (8): ReLU()\n",
      "    (9): Linear(in_features=256, out_features=128, bias=True)\n",
      "    (10): BatchNorm1d(128, eps=1e-05, momentum=0.1, affine=True, track_running_stats=True)\n",
      "    (11): ReLU()\n",
      "    (12): Linear(in_features=128, out_features=100, bias=True)\n",
      "  )\n",
      ")\n"
     ]
    }
   ],
   "source": [
    "\n",
    "print(f\"Using {device} device\")\n",
    "\n",
    "class NeuralNetwork(nn.Module):\n",
    "    def __init__(self, hidden_layers=[512, 256, 128], activations=[nn.ReLU(), nn.ReLU(), nn.ReLU()], n_classes=2):\n",
    "        super().__init__()\n",
    "    \n",
    "        self.flatten = nn.Flatten()\n",
    "\n",
    "        layers = []\n",
    "\n",
    "        layers.append(nn.Linear(image_size, hidden_layers[0]))\n",
    "        layers.append(nn.BatchNorm1d(hidden_layers[0]))\n",
    "        layers.append(activations[0])\n",
    "        \n",
    "        for i in range(len(hidden_layers)-1):\n",
    "            layers.append(nn.Linear(hidden_layers[i], hidden_layers[i+1]))\n",
    "            layers.append(nn.BatchNorm1d(hidden_layers[i+1]))\n",
    "            layers.append(activations[i+1])\n",
    "            \n",
    "        layers.append(nn.Linear(hidden_layers[-1], n_classes))\n",
    "        \n",
    "        self.layers = nn.Sequential(*layers)\n",
    "\n",
    "    def forward(self, x):\n",
    "        x = self.flatten(x)\n",
    "        logits = self.layers(x)\n",
    "        return logits\n",
    "\n",
    "model = NeuralNetwork(hidden_layers = [1024, 512, 256, 128], activations=[nn.ReLU(), nn.ReLU(), nn.ReLU(), nn.ReLU()], n_classes=n_classes).to(device)\n",
    "print(model)"
   ]
  },
  {
   "cell_type": "markdown",
   "metadata": {},
   "source": [
    "## Define optimizer and loss function"
   ]
  },
  {
   "cell_type": "code",
   "execution_count": 8,
   "metadata": {},
   "outputs": [],
   "source": [
    "loss_fn = nn.CrossEntropyLoss()\n",
    "optimizer = torch.optim.Adam(model.parameters(), lr=0.01)"
   ]
  },
  {
   "cell_type": "markdown",
   "metadata": {},
   "source": [
    "### Learning rate schedule"
   ]
  },
  {
   "cell_type": "code",
   "execution_count": 9,
   "metadata": {},
   "outputs": [],
   "source": [
    "import torch.optim.lr_scheduler as lr_scheduler\n",
    " \n",
    "scheduler = lr_scheduler.LinearLR(optimizer, start_factor=1, end_factor=1e-3, total_iters=25)"
   ]
  },
  {
   "cell_type": "markdown",
   "metadata": {},
   "source": [
    "## Training loop"
   ]
  },
  {
   "cell_type": "code",
   "execution_count": 10,
   "metadata": {},
   "outputs": [],
   "source": [
    "def train(dataloader, model, loss_fn, optimizer):\n",
    "    size = len(dataloader.dataset)\n",
    "    model.train()\n",
    "    for batch, (X, y) in enumerate(dataloader):\n",
    "        X, y = X.to(device), y.to(device)\n",
    "\n",
    "        # Compute prediction error\n",
    "        pred = model(X)\n",
    "        loss = loss_fn(pred, y)\n",
    "\n",
    "        # Backpropagation\n",
    "        loss.backward()\n",
    "        optimizer.step()\n",
    "        optimizer.zero_grad()\n",
    "\n",
    "        if batch % 100 == 0:\n",
    "            loss, current = loss.item(), (batch + 1) * len(X)\n",
    "            print(f\"loss: {loss:>7f}  [{current:>5d}/{size:>5d}]\")\n",
    "            \n",
    "    # scheduler.step()"
   ]
  },
  {
   "cell_type": "code",
   "execution_count": 11,
   "metadata": {},
   "outputs": [],
   "source": [
    "def test(dataloader, model, loss_fn, optimizer):\n",
    "    size = len(dataloader.dataset)\n",
    "    num_batches = len(dataloader)\n",
    "    model.eval()\n",
    "    test_loss, correct = 0, 0\n",
    "    with torch.no_grad():\n",
    "        for X, y in dataloader:\n",
    "            X, y = X.to(device), y.to(device)\n",
    "            pred = model(X)\n",
    "            test_loss += loss_fn(pred, y).item()\n",
    "            correct += (pred.argmax(1) == y).type(torch.float).sum().item()\n",
    "    test_loss /= num_batches\n",
    "    correct /= size\n",
    "   \n",
    "    print(f\"Test Error: \\n Accuracy: {(100*correct):>0.1f}%, Avg loss: {test_loss:>8f} \\n lr: {optimizer.param_groups[0]['lr']}\")\n",
    "    print(\"_______________________________\")"
   ]
  },
  {
   "cell_type": "code",
   "execution_count": 12,
   "metadata": {},
   "outputs": [
    {
     "name": "stdout",
     "output_type": "stream",
     "text": [
      "Epoch 1\n",
      "_______________________________\n",
      "loss: 4.712553  [  256/50000]\n",
      "loss: 3.717904  [25856/50000]\n",
      "Test Error: \n",
      " Accuracy: 15.9%, Avg loss: 3.546147 \n",
      " lr: 0.01\n",
      "_______________________________\n",
      "Epoch 2\n",
      "_______________________________\n",
      "loss: 3.409832  [  256/50000]\n",
      "loss: 3.289816  [25856/50000]\n",
      "Test Error: \n",
      " Accuracy: 19.7%, Avg loss: 3.349591 \n",
      " lr: 0.01\n",
      "_______________________________\n",
      "Epoch 3\n",
      "_______________________________\n",
      "loss: 3.194464  [  256/50000]\n",
      "loss: 3.125808  [25856/50000]\n",
      "Test Error: \n",
      " Accuracy: 21.0%, Avg loss: 3.259201 \n",
      " lr: 0.01\n",
      "_______________________________\n",
      "Epoch 4\n",
      "_______________________________\n",
      "loss: 2.845555  [  256/50000]\n",
      "loss: 3.018520  [25856/50000]\n",
      "Test Error: \n",
      " Accuracy: 23.0%, Avg loss: 3.176091 \n",
      " lr: 0.01\n",
      "_______________________________\n",
      "Epoch 5\n",
      "_______________________________\n",
      "loss: 2.785226  [  256/50000]\n",
      "loss: 2.866110  [25856/50000]\n",
      "Test Error: \n",
      " Accuracy: 23.8%, Avg loss: 3.138144 \n",
      " lr: 0.01\n",
      "_______________________________\n",
      "Epoch 6\n",
      "_______________________________\n",
      "loss: 2.684011  [  256/50000]\n",
      "loss: 2.706717  [25856/50000]\n",
      "Test Error: \n",
      " Accuracy: 25.2%, Avg loss: 3.090100 \n",
      " lr: 0.01\n",
      "_______________________________\n",
      "Epoch 7\n",
      "_______________________________\n",
      "loss: 2.487141  [  256/50000]\n",
      "loss: 2.764707  [25856/50000]\n",
      "Test Error: \n",
      " Accuracy: 26.1%, Avg loss: 3.082583 \n",
      " lr: 0.01\n",
      "_______________________________\n",
      "Epoch 8\n",
      "_______________________________\n",
      "loss: 2.457983  [  256/50000]\n",
      "loss: 2.618529  [25856/50000]\n",
      "Test Error: \n",
      " Accuracy: 26.3%, Avg loss: 3.103697 \n",
      " lr: 0.01\n",
      "_______________________________\n",
      "Epoch 9\n",
      "_______________________________\n",
      "loss: 2.376001  [  256/50000]\n",
      "loss: 2.383766  [25856/50000]\n",
      "Test Error: \n",
      " Accuracy: 26.3%, Avg loss: 3.126903 \n",
      " lr: 0.01\n",
      "_______________________________\n",
      "Epoch 10\n",
      "_______________________________\n",
      "loss: 2.268624  [  256/50000]\n",
      "loss: 2.316274  [25856/50000]\n",
      "Test Error: \n",
      " Accuracy: 27.4%, Avg loss: 3.105015 \n",
      " lr: 0.01\n",
      "_______________________________\n",
      "Epoch 11\n",
      "_______________________________\n",
      "loss: 2.086082  [  256/50000]\n",
      "loss: 2.214970  [25856/50000]\n",
      "Test Error: \n",
      " Accuracy: 27.2%, Avg loss: 3.175807 \n",
      " lr: 0.01\n",
      "_______________________________\n",
      "Epoch 12\n",
      "_______________________________\n",
      "loss: 1.886769  [  256/50000]\n",
      "loss: 1.921030  [25856/50000]\n",
      "Test Error: \n",
      " Accuracy: 27.2%, Avg loss: 3.266054 \n",
      " lr: 0.01\n",
      "_______________________________\n",
      "Epoch 13\n",
      "_______________________________\n",
      "loss: 1.691906  [  256/50000]\n",
      "loss: 1.952926  [25856/50000]\n",
      "Test Error: \n",
      " Accuracy: 26.5%, Avg loss: 3.350381 \n",
      " lr: 0.01\n",
      "_______________________________\n",
      "Epoch 14\n",
      "_______________________________\n",
      "loss: 1.613469  [  256/50000]\n",
      "loss: 1.745069  [25856/50000]\n",
      "Test Error: \n",
      " Accuracy: 26.5%, Avg loss: 3.487736 \n",
      " lr: 0.01\n",
      "_______________________________\n",
      "Epoch 15\n",
      "_______________________________\n",
      "loss: 1.442349  [  256/50000]\n",
      "loss: 1.609993  [25856/50000]\n",
      "Test Error: \n",
      " Accuracy: 26.5%, Avg loss: 3.546689 \n",
      " lr: 0.01\n",
      "_______________________________\n",
      "Epoch 16\n",
      "_______________________________\n",
      "loss: 1.460690  [  256/50000]\n",
      "loss: 1.374362  [25856/50000]\n",
      "Test Error: \n",
      " Accuracy: 26.7%, Avg loss: 3.691794 \n",
      " lr: 0.01\n",
      "_______________________________\n",
      "Epoch 17\n",
      "_______________________________\n",
      "loss: 1.183134  [  256/50000]\n",
      "loss: 1.151195  [25856/50000]\n",
      "Test Error: \n",
      " Accuracy: 26.3%, Avg loss: 3.866145 \n",
      " lr: 0.01\n",
      "_______________________________\n",
      "Epoch 18\n",
      "_______________________________\n",
      "loss: 1.085907  [  256/50000]\n",
      "loss: 1.065547  [25856/50000]\n",
      "Test Error: \n",
      " Accuracy: 26.6%, Avg loss: 4.043440 \n",
      " lr: 0.01\n",
      "_______________________________\n",
      "Epoch 19\n",
      "_______________________________\n",
      "loss: 0.977545  [  256/50000]\n",
      "loss: 1.218751  [25856/50000]\n",
      "Test Error: \n",
      " Accuracy: 26.5%, Avg loss: 4.177544 \n",
      " lr: 0.01\n",
      "_______________________________\n",
      "Epoch 20\n",
      "_______________________________\n",
      "loss: 0.835441  [  256/50000]\n",
      "loss: 1.123282  [25856/50000]\n",
      "Test Error: \n",
      " Accuracy: 25.9%, Avg loss: 4.439536 \n",
      " lr: 0.01\n",
      "_______________________________\n",
      "Epoch 21\n",
      "_______________________________\n",
      "loss: 0.801803  [  256/50000]\n",
      "loss: 0.910703  [25856/50000]\n",
      "Test Error: \n",
      " Accuracy: 26.1%, Avg loss: 4.707606 \n",
      " lr: 0.01\n",
      "_______________________________\n",
      "Epoch 22\n",
      "_______________________________\n",
      "loss: 0.814047  [  256/50000]\n",
      "loss: 0.996801  [25856/50000]\n",
      "Test Error: \n",
      " Accuracy: 25.7%, Avg loss: 4.825096 \n",
      " lr: 0.01\n",
      "_______________________________\n",
      "Epoch 23\n",
      "_______________________________\n",
      "loss: 0.805637  [  256/50000]\n",
      "loss: 0.736911  [25856/50000]\n",
      "Test Error: \n",
      " Accuracy: 26.3%, Avg loss: 5.062923 \n",
      " lr: 0.01\n",
      "_______________________________\n",
      "Epoch 24\n",
      "_______________________________\n",
      "loss: 0.609002  [  256/50000]\n",
      "loss: 0.693006  [25856/50000]\n",
      "Test Error: \n",
      " Accuracy: 25.7%, Avg loss: 5.248032 \n",
      " lr: 0.01\n",
      "_______________________________\n",
      "Epoch 25\n",
      "_______________________________\n",
      "loss: 0.588121  [  256/50000]\n",
      "loss: 0.708148  [25856/50000]\n",
      "Test Error: \n",
      " Accuracy: 26.2%, Avg loss: 5.334063 \n",
      " lr: 0.01\n",
      "_______________________________\n",
      "Done!\n"
     ]
    }
   ],
   "source": [
    "epochs = 25\n",
    "\n",
    "for i in range(epochs):\n",
    "    print(f\"Epoch {i+1}\\n_______________________________\")\n",
    "    train(train_dataloader, model, loss_fn, optimizer)\n",
    "    test(test_dataloader, model, loss_fn, optimizer)\n",
    "print(\"Done!\")"
   ]
  },
  {
   "cell_type": "code",
   "execution_count": null,
   "metadata": {},
   "outputs": [],
   "source": []
  }
 ],
 "metadata": {
  "kernelspec": {
   "display_name": "base",
   "language": "python",
   "name": "python3"
  },
  "language_info": {
   "codemirror_mode": {
    "name": "ipython",
    "version": 3
   },
   "file_extension": ".py",
   "mimetype": "text/x-python",
   "name": "python",
   "nbconvert_exporter": "python",
   "pygments_lexer": "ipython3",
   "version": "3.11.5"
  }
 },
 "nbformat": 4,
 "nbformat_minor": 2
}
