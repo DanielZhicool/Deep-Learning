{
 "cells": [
  {
   "cell_type": "code",
   "execution_count": 152,
   "metadata": {},
   "outputs": [],
   "source": [
    "import numpy as np\n",
    "import torch\n",
    "from torch import nn\n",
    "from torch.utils.data import DataLoader \n",
    "from torchvision import datasets\n",
    "from torchvision.transforms import Resize, ToTensor, Compose, Normalize\n",
    "\n",
    "# Ignore warnings\n",
    "import warnings\n",
    "warnings.filterwarnings(\"ignore\")"
   ]
  },
  {
   "cell_type": "markdown",
   "metadata": {},
   "source": [
    "### Device"
   ]
  },
  {
   "cell_type": "code",
   "execution_count": 153,
   "metadata": {},
   "outputs": [
    {
     "name": "stdout",
     "output_type": "stream",
     "text": [
      "_CudaDeviceProperties(name='NVIDIA GeForce GTX 1080 Ti', major=6, minor=1, total_memory=11263MB, multi_processor_count=28)\n"
     ]
    }
   ],
   "source": [
    "# device\n",
    "device = torch.device(\"cuda:0\" if torch.cuda.is_available() else \"cpu\")\n",
    "\n",
    "torch.backends.cudnn.benchmark = True\n",
    "print(torch.cuda.get_device_properties(0))"
   ]
  },
  {
   "cell_type": "markdown",
   "metadata": {},
   "source": [
    "## Dataset"
   ]
  },
  {
   "cell_type": "code",
   "execution_count": 154,
   "metadata": {},
   "outputs": [
    {
     "name": "stdout",
     "output_type": "stream",
     "text": [
      "Files already downloaded and verified\n",
      "Files already downloaded and verified\n"
     ]
    }
   ],
   "source": [
    "# Normalize a tensor image with mean and standard deviation from ImageNet\n",
    "transform = Compose([Resize((224, 224)), ToTensor(), Normalize((0.4914, 0.4822, 0.4465), (0.2023, 0.1994, 0.2010)).to(device)])\n",
    "\n",
    "# Download train data\n",
    "training_data = datasets.CIFAR100(\n",
    "    root=\"data\",\n",
    "    train=True,\n",
    "    download=True,\n",
    "    transform=transform,\n",
    ")\n",
    "\n",
    "# Download test data\n",
    "test_data = datasets.CIFAR100(\n",
    "    root=\"data\",\n",
    "    train=False,\n",
    "    download=True,\n",
    "    transform=transform,\n",
    ")"
   ]
  },
  {
   "cell_type": "code",
   "execution_count": 155,
   "metadata": {},
   "outputs": [
    {
     "name": "stdout",
     "output_type": "stream",
     "text": [
      "Shape of X [N, C, H, W]: torch.Size([256, 3, 224, 224])\n",
      "Shape of y: torch.Size([256]) torch.int64\n"
     ]
    }
   ],
   "source": [
    "n_classes = len(test_data.classes)\n",
    "n_classes\n",
    "\n",
    "batch_size = 256\n",
    "\n",
    "# Create data loaders.\n",
    "train_dataloader = DataLoader(training_data, batch_size=batch_size, shuffle=True)\n",
    "test_dataloader = DataLoader(test_data, batch_size=batch_size, shuffle=True)\n",
    "\n",
    "for X, y in test_dataloader:\n",
    "    print(f\"Shape of X [N, C, H, W]: {X.shape}\")\n",
    "    print(f\"Shape of y: {y.shape} {y.dtype}\")\n",
    "    break"
   ]
  },
  {
   "cell_type": "markdown",
   "metadata": {},
   "source": [
    "## ResNet block"
   ]
  },
  {
   "cell_type": "code",
   "execution_count": 156,
   "metadata": {},
   "outputs": [],
   "source": [
    "class ResNetBlock(nn.Module):\n",
    "    def __init__(self, in_channels, out_channels, stride=1, downsample=None):\n",
    "        super(ResNetBlock, self).__init__()\n",
    "        \n",
    "        self.downsample = downsample\n",
    "        \n",
    "        \n",
    "        self.layers = nn.Sequential(\n",
    "            nn.Conv2d(in_channels, out_channels, kernel_size=3, stride=stride, padding=1),\n",
    "            nn.BatchNorm2d(out_channels),\n",
    "            nn.ReLU(),\n",
    "            nn.Conv2d(out_channels, out_channels, kernel_size=3, stride=1, padding=1),\n",
    "            nn.BatchNorm2d(out_channels)\n",
    "        )\n",
    "\n",
    "        self.relu = nn.ReLU()\n",
    "\n",
    "    def forward(self, X):\n",
    "        res = X\n",
    "        output = self.layers(X)\n",
    "\n",
    "        if self.downsample:\n",
    "            res = self.downsample(X)\n",
    "        output += res\n",
    "        output = self.relu(output)\n",
    "        return output\n"
   ]
  },
  {
   "cell_type": "markdown",
   "metadata": {},
   "source": [
    "## ResNet layer"
   ]
  },
  {
   "cell_type": "code",
   "execution_count": 157,
   "metadata": {},
   "outputs": [],
   "source": [
    "class ResNetLayer(nn.Module):\n",
    "    def __init__(self, block, n_blocks, in_channels, out_channels, stride):\n",
    "        super(ResNetLayer, self).__init__()\n",
    "        downsample = None\n",
    "\n",
    "        if stride != 1 or out_channels != in_channels:\n",
    "            downsample = nn.Sequential(\n",
    "                nn.Conv2d(in_channels, out_channels, kernel_size=1, stride=stride),\n",
    "                nn.BatchNorm2d(out_channels)\n",
    "            )\n",
    "\n",
    "        layers = []\n",
    "\n",
    "        layers.append(block(in_channels, out_channels, stride, downsample))\n",
    "\n",
    "        for i in range(n_blocks-1):\n",
    "            layers.append(block(out_channels, out_channels))\n",
    "\n",
    "        self.layers = nn.Sequential(*layers)\n",
    "    \n",
    "    def forward(self, X):\n",
    "        return self.layers(X)\n"
   ]
  },
  {
   "cell_type": "markdown",
   "metadata": {},
   "source": [
    "## ResNet"
   ]
  },
  {
   "cell_type": "code",
   "execution_count": 158,
   "metadata": {},
   "outputs": [],
   "source": [
    "class ResNet(nn.Module):\n",
    "    def __init__(self, architecture: int = 18, layer=[2, 2, 2, 2], channels: int = 3, n_classes: int = 100):\n",
    "        super(ResNet, self).__init__()\n",
    "\n",
    "        self.architecture = architecture\n",
    "        self.in_channels = 64\n",
    "\n",
    "        layers = []\n",
    "\n",
    "        self.conv1 = nn.Sequential(\n",
    "            nn.Conv2d(channels, 64, kernel_size=7, stride=2, padding=3),\n",
    "            nn.BatchNorm2d(64),\n",
    "            nn.ReLU()\n",
    "        )\n",
    "        \n",
    "        block = ResNetBlock\n",
    "\n",
    "        self.conv2 = nn.Sequential(\n",
    "            nn.MaxPool2d(kernel_size=3, stride=2, padding=1),\n",
    "            ResNetLayer(block, layer[0], self.in_channels, 64, stride=1)\n",
    "        )\n",
    " \n",
    "        self.conv3 = ResNetLayer(block, layer[1], self.in_channels, 128, stride=2)\n",
    "\n",
    "        self.conv4 = ResNetLayer(block, layer[2], 128, 256, stride=2)\n",
    "\n",
    "        if architecture != 32:\n",
    "            self.conv5 = ResNetLayer(block, layer[3], 256, 512, stride=2)\n",
    "        \n",
    "        \n",
    "        self.avgpool = nn.AvgPool2d(7, stride=1)\n",
    "\n",
    "        self.classicicator = nn.Sequential(\n",
    "            nn.Flatten(),\n",
    "            nn.Linear(512, n_classes),\n",
    "            # nn.Softmax()\n",
    "        )\n",
    "\n",
    "    def forward(self, X):\n",
    "\n",
    "        X = self.conv1(X)  \n",
    "        X = self.conv2(X)\n",
    "        X = self.conv3(X)\n",
    "        X = self.conv4(X)\n",
    "        \n",
    "        if self.architecture != 32:\n",
    "            X = self.conv5(X)\n",
    "\n",
    "        X = self.avgpool(X)\n",
    "        X = self.classicicator(X)\n",
    "  \n",
    "        return X\n"
   ]
  },
  {
   "cell_type": "markdown",
   "metadata": {},
   "source": [
    "## For easier optimizer setup "
   ]
  },
  {
   "cell_type": "code",
   "execution_count": 168,
   "metadata": {},
   "outputs": [],
   "source": [
    "def setup_optimizer(to_optimize, optimizer = torch.optim.Adam, schedule = False, epochs = 8, lr = 0.001):\n",
    "    optimizer = optimizer(params = to_optimize.parameters(), lr=lr)\n",
    "\n",
    "    scheduler = None\n",
    "\n",
    "    if schedule:\n",
    "        scheduler = torch.optim.lr_scheduler.OneCycleLR(optimizer, lr, epochs=epochs, steps_per_epoch=len(train_dataloader))\n",
    "\n",
    "    return optimizer, scheduler"
   ]
  },
  {
   "cell_type": "code",
   "execution_count": 177,
   "metadata": {},
   "outputs": [],
   "source": [
    "def train(dataloader, model, loss_fn, optimizer, scheduler=None):\n",
    "    size = len(dataloader.dataset)\n",
    "    model.train()\n",
    "    train_loss = 0\n",
    "\n",
    "    # To memorize losses and learning rates\n",
    "    current_train_loss_history = []\n",
    "    current_lr_history = []\n",
    "\n",
    "    for X, y in dataloader:\n",
    "        X, y = X.to(device), y.to(device)\n",
    "\n",
    "        pred = model(X)\n",
    "        loss = loss_fn(pred, y)\n",
    "        train_loss += loss.item()\n",
    "\n",
    "        loss.backward()\n",
    "        optimizer.step()\n",
    "        optimizer.zero_grad()\n",
    "\n",
    "        if scheduler:\n",
    "            current_lr_history.append(scheduler.get_last_lr()) # save learning rate \n",
    "            scheduler.step()\n",
    "\n",
    "        # if batch % 100 == 0:\n",
    "        #     loss, current = loss.item(), (batch + 1) * len(X)\n",
    "        #     print(f\"loss: {loss:>7f}  [{current:>5d}/{size:>5d}]\")\n",
    "\n",
    "    train_loss /= len(dataloader) # calculate mean loss for epoch\n",
    "    current_train_loss_history.append(train_loss) # save current mean loss \n",
    "\n",
    "    print(f\"Train: Avg loss: {train_loss:>8f}\")\n",
    "\n",
    "    return current_train_loss_history, current_lr_history\n",
    "\n",
    "\n",
    "\n",
    "\n",
    "def test(dataloader, model, loss_fn, optimizer):\n",
    "    size = len(dataloader.dataset)\n",
    "    num_batches = len(dataloader)\n",
    "    model.eval()\n",
    "    test_loss, correct = 0, 0\n",
    "\n",
    "    current_test_loss_history = []\n",
    "    current_test_metric_history = []\n",
    "\n",
    "    with torch.no_grad():\n",
    "        for X, y in dataloader:\n",
    "            X, y = X.to(device), y.to(device)\n",
    "            pred = model(X)\n",
    "            test_loss += loss_fn(pred, y).item()\n",
    "            correct += (pred.argmax(1) == y).type(torch.float).sum().item()\n",
    "    test_loss /= num_batches\n",
    "    correct /= size\n",
    "    current_test_loss_history.append(test_loss)\n",
    "    current_test_metric_history.append(correct * 100)\n",
    "    \n",
    "    print(f\"Test: \\n Accuracy: {(100*correct):>0.1f}%, Avg loss: {test_loss:>8f}\")\n",
    "    print(\"_______________________________\")\n",
    "\n",
    "    return current_test_loss_history, current_test_metric_history\n",
    "      "
   ]
  },
  {
   "cell_type": "code",
   "execution_count": 178,
   "metadata": {},
   "outputs": [],
   "source": [
    "def train_loop(model, epochs, optimizer, scheduler=None):\n",
    "\n",
    "    train_loss_history = []\n",
    "    lr_history = []\n",
    "    test_loss_history = []\n",
    "    test_metric_history = []\n",
    "\n",
    "    for i in range(epochs):\n",
    "\n",
    "        print(f'Epoch {i+1}\\n')\n",
    "\n",
    "        train_history = train(train_dataloader, model, loss_fn, optimizer, scheduler)\n",
    "        test_history = test(test_dataloader, model, loss_fn, optimizer)\n",
    "\n",
    "        train_loss_history = np.append(train_loss_history, train_history[0])\n",
    "        lr_history = np.append(lr_history, train_history[1])\n",
    "        test_loss_history = np.append(test_loss_history, test_history[0])\n",
    "        test_metric_history = np.append(test_metric_history, test_history[1])\n",
    "\n",
    "    print('Finished')\n",
    "\n",
    "    return train_loss_history, lr_history, test_loss_history, test_metric_history"
   ]
  },
  {
   "cell_type": "markdown",
   "metadata": {},
   "source": [
    "# ResNet18"
   ]
  },
  {
   "cell_type": "code",
   "execution_count": 184,
   "metadata": {},
   "outputs": [],
   "source": [
    "ResNet10 = ResNet(architecture=10, layer=[1, 1, 1, 1], n_classes=n_classes).to(device)"
   ]
  },
  {
   "cell_type": "code",
   "execution_count": 185,
   "metadata": {},
   "outputs": [
    {
     "name": "stdout",
     "output_type": "stream",
     "text": [
      "ResNet(\n",
      "  (conv1): Sequential(\n",
      "    (0): Conv2d(3, 64, kernel_size=(7, 7), stride=(2, 2), padding=(3, 3))\n",
      "    (1): BatchNorm2d(64, eps=1e-05, momentum=0.1, affine=True, track_running_stats=True)\n",
      "    (2): ReLU()\n",
      "  )\n",
      "  (conv2): Sequential(\n",
      "    (0): MaxPool2d(kernel_size=3, stride=2, padding=1, dilation=1, ceil_mode=False)\n",
      "    (1): ResNetLayer(\n",
      "      (layers): Sequential(\n",
      "        (0): ResNetBlock(\n",
      "          (layers): Sequential(\n",
      "            (0): Conv2d(64, 64, kernel_size=(3, 3), stride=(1, 1), padding=(1, 1))\n",
      "            (1): BatchNorm2d(64, eps=1e-05, momentum=0.1, affine=True, track_running_stats=True)\n",
      "            (2): ReLU()\n",
      "            (3): Conv2d(64, 64, kernel_size=(3, 3), stride=(1, 1), padding=(1, 1))\n",
      "            (4): BatchNorm2d(64, eps=1e-05, momentum=0.1, affine=True, track_running_stats=True)\n",
      "          )\n",
      "          (relu): ReLU()\n",
      "        )\n",
      "      )\n",
      "    )\n",
      "  )\n",
      "  (conv3): ResNetLayer(\n",
      "    (layers): Sequential(\n",
      "      (0): ResNetBlock(\n",
      "        (downsample): Sequential(\n",
      "          (0): Conv2d(64, 128, kernel_size=(1, 1), stride=(2, 2))\n",
      "          (1): BatchNorm2d(128, eps=1e-05, momentum=0.1, affine=True, track_running_stats=True)\n",
      "        )\n",
      "        (layers): Sequential(\n",
      "          (0): Conv2d(64, 128, kernel_size=(3, 3), stride=(2, 2), padding=(1, 1))\n",
      "          (1): BatchNorm2d(128, eps=1e-05, momentum=0.1, affine=True, track_running_stats=True)\n",
      "          (2): ReLU()\n",
      "          (3): Conv2d(128, 128, kernel_size=(3, 3), stride=(1, 1), padding=(1, 1))\n",
      "          (4): BatchNorm2d(128, eps=1e-05, momentum=0.1, affine=True, track_running_stats=True)\n",
      "        )\n",
      "        (relu): ReLU()\n",
      "      )\n",
      "    )\n",
      "  )\n",
      "  (conv4): ResNetLayer(\n",
      "    (layers): Sequential(\n",
      "      (0): ResNetBlock(\n",
      "        (downsample): Sequential(\n",
      "          (0): Conv2d(128, 256, kernel_size=(1, 1), stride=(2, 2))\n",
      "          (1): BatchNorm2d(256, eps=1e-05, momentum=0.1, affine=True, track_running_stats=True)\n",
      "        )\n",
      "        (layers): Sequential(\n",
      "          (0): Conv2d(128, 256, kernel_size=(3, 3), stride=(2, 2), padding=(1, 1))\n",
      "          (1): BatchNorm2d(256, eps=1e-05, momentum=0.1, affine=True, track_running_stats=True)\n",
      "          (2): ReLU()\n",
      "          (3): Conv2d(256, 256, kernel_size=(3, 3), stride=(1, 1), padding=(1, 1))\n",
      "          (4): BatchNorm2d(256, eps=1e-05, momentum=0.1, affine=True, track_running_stats=True)\n",
      "        )\n",
      "        (relu): ReLU()\n",
      "      )\n",
      "    )\n",
      "  )\n",
      "  (conv5): ResNetLayer(\n",
      "    (layers): Sequential(\n",
      "      (0): ResNetBlock(\n",
      "        (downsample): Sequential(\n",
      "          (0): Conv2d(256, 512, kernel_size=(1, 1), stride=(2, 2))\n",
      "          (1): BatchNorm2d(512, eps=1e-05, momentum=0.1, affine=True, track_running_stats=True)\n",
      "        )\n",
      "        (layers): Sequential(\n",
      "          (0): Conv2d(256, 512, kernel_size=(3, 3), stride=(2, 2), padding=(1, 1))\n",
      "          (1): BatchNorm2d(512, eps=1e-05, momentum=0.1, affine=True, track_running_stats=True)\n",
      "          (2): ReLU()\n",
      "          (3): Conv2d(512, 512, kernel_size=(3, 3), stride=(1, 1), padding=(1, 1))\n",
      "          (4): BatchNorm2d(512, eps=1e-05, momentum=0.1, affine=True, track_running_stats=True)\n",
      "        )\n",
      "        (relu): ReLU()\n",
      "      )\n",
      "    )\n",
      "  )\n",
      "  (avgpool): AvgPool2d(kernel_size=7, stride=1, padding=0)\n",
      "  (classicicator): Sequential(\n",
      "    (0): Flatten(start_dim=1, end_dim=-1)\n",
      "    (1): Linear(in_features=512, out_features=100, bias=True)\n",
      "  )\n",
      ")\n"
     ]
    }
   ],
   "source": [
    "print(ResNet10)"
   ]
  },
  {
   "cell_type": "code",
   "execution_count": 186,
   "metadata": {},
   "outputs": [
    {
     "name": "stdout",
     "output_type": "stream",
     "text": [
      "<class 'torch.Tensor'>\n",
      "torch.Size([5, 100])\n"
     ]
    }
   ],
   "source": [
    "x = torch.randn(5, 3, 224, 224).to(device)\n",
    "print(type(x))\n",
    "y = ResNet10(x).to(device)\n",
    "print(y.shape)"
   ]
  },
  {
   "cell_type": "code",
   "execution_count": 187,
   "metadata": {},
   "outputs": [],
   "source": [
    "loss_fn = nn.CrossEntropyLoss()\n",
    "optimizer, scheduler = setup_optimizer(ResNet10, schedule = True, epochs = 8, lr = 0.001)"
   ]
  },
  {
   "cell_type": "code",
   "execution_count": 188,
   "metadata": {},
   "outputs": [
    {
     "name": "stdout",
     "output_type": "stream",
     "text": [
      "Epoch 1\n",
      "\n",
      "Train: Avg loss: 3.896097\n",
      "Test: \n",
      " Accuracy: 14.6%, Avg loss: 3.631976\n",
      "_______________________________\n",
      "Epoch 2\n",
      "\n",
      "Train: Avg loss: 3.204292\n",
      "Test: \n",
      " Accuracy: 23.3%, Avg loss: 3.117039\n",
      "_______________________________\n",
      "Epoch 3\n",
      "\n",
      "Train: Avg loss: 2.621584\n",
      "Test: \n",
      " Accuracy: 28.3%, Avg loss: 2.903042\n",
      "_______________________________\n",
      "Epoch 4\n",
      "\n",
      "Train: Avg loss: 2.132273\n",
      "Test: \n",
      " Accuracy: 42.0%, Avg loss: 2.227861\n",
      "_______________________________\n",
      "Epoch 5\n",
      "\n",
      "Train: Avg loss: 1.762562\n",
      "Test: \n",
      " Accuracy: 43.7%, Avg loss: 2.142991\n",
      "_______________________________\n",
      "Epoch 6\n",
      "\n",
      "Train: Avg loss: 1.436019\n",
      "Test: \n",
      " Accuracy: 54.1%, Avg loss: 1.662248\n",
      "_______________________________\n",
      "Epoch 7\n",
      "\n",
      "Train: Avg loss: 1.144039\n",
      "Test: \n",
      " Accuracy: 58.8%, Avg loss: 1.478366\n",
      "_______________________________\n",
      "Epoch 8\n",
      "\n",
      "Train: Avg loss: 0.969312\n",
      "Test: \n",
      " Accuracy: 60.3%, Avg loss: 1.430729\n",
      "_______________________________\n",
      "Finished\n"
     ]
    }
   ],
   "source": [
    "history = train_loop(ResNet10, epochs=8, optimizer=optimizer, scheduler=scheduler)"
   ]
  },
  {
   "cell_type": "code",
   "execution_count": 189,
   "metadata": {},
   "outputs": [
    {
     "data": {
      "image/png": "[encoded data removed]",
      "text/plain": [
       "<Figure size 1000x500 with 2 Axes>"
      ]
     },
     "metadata": {},
     "output_type": "display_data"
    }
   ],
   "source": [
    "import matplotlib.pyplot as plt\n",
    "\n",
    "fig, (ax1, ax2) = plt.subplots(1, 2, figsize=(10, 5))\n",
    "\n",
    "ax1.plot(history[2], label='test')\n",
    "ax1.plot(history[0], label='train')\n",
    "ax1.legend()\n",
    "ax1.set_xlabel('epoch')\n",
    "ax1.set_ylabel('loss')\n",
    "ax1.grid()\n",
    "\n",
    "ax2.plot(history[3], label='test')\n",
    "ax2.legend()\n",
    "ax2.set_xlabel('epoch')\n",
    "ax2.set_ylabel('accuracy')\n",
    "ax2.grid()"
   ]
  },
  {
   "cell_type": "markdown",
   "metadata": {},
   "source": [
    "## Learning rate"
   ]
  },
  {
   "cell_type": "code",
   "execution_count": 190,
   "metadata": {},
   "outputs": [
    {
     "data": {
      "image/png": "[encoded data removed]",
      "text/plain": [
       "<Figure size 1000x500 with 1 Axes>"
      ]
     },
     "metadata": {},
     "output_type": "display_data"
    }
   ],
   "source": [
    "fig, ax = plt.subplots(figsize=(10, 5))\n",
    "\n",
    "ax.plot(history[1])\n",
    "ax.set_xlabel('epoch')\n",
    "ax.set_ylabel('lr')\n",
    "ax.grid()"
   ]
  },
  {
   "cell_type": "code",
   "execution_count": 146,
   "metadata": {},
   "outputs": [],
   "source": [
    "\n",
    "\n",
    "ResNet10 = ResNet(layer=[1, 1, 1, 1], n_classes=n_classes).to(device)"
   ]
  },
  {
   "cell_type": "code",
   "execution_count": 147,
   "metadata": {},
   "outputs": [
    {
     "data": {
      "text/plain": [
       "tensor([[-8.5749e-02,  1.3044e-01,  5.1242e-01, -5.4184e-01,  4.0094e-01,\n",
       "          1.0441e-01,  4.3962e-02, -1.3897e-01,  1.2300e-01, -1.1895e-02,\n",
       "          8.8606e-02,  7.4600e-03,  1.0169e-01,  2.1721e-01,  6.3575e-01,\n",
       "          2.9283e-01,  1.0310e-01, -3.0897e-02, -3.1376e-02, -9.5071e-02,\n",
       "          2.8357e-01, -3.0861e-01, -3.0142e-02, -5.2447e-02,  1.2868e-01,\n",
       "         -1.6233e-01, -5.4925e-01, -4.0600e-01, -4.1898e-02, -1.3515e-01,\n",
       "          5.2031e-02,  3.0481e-01, -3.1566e-01, -5.7924e-01, -2.3501e-01,\n",
       "          4.3153e-01, -1.6975e-01, -3.6445e-02,  6.4493e-01, -7.8468e-02,\n",
       "         -4.7496e-02,  1.6890e-01, -2.1073e-01,  5.3279e-02,  9.1930e-02,\n",
       "         -1.8058e-01,  1.2106e-01,  3.1583e-01, -1.7001e-02,  2.5967e-01,\n",
       "         -2.8845e-01,  7.2626e-01, -1.3174e-01,  2.8771e-01,  1.9972e-01,\n",
       "         -5.5168e-02, -2.6253e-01, -5.7917e-01, -2.7948e-01,  1.4387e-01,\n",
       "         -7.1704e-02,  8.9420e-03,  3.5099e-02,  5.7040e-01, -4.9377e-01,\n",
       "         -4.6598e-01,  5.0529e-02,  4.1148e-01,  2.6897e-01,  3.2600e-01,\n",
       "          2.5662e-01,  3.5211e-01, -3.6603e-01,  4.1804e-03, -2.4088e-01,\n",
       "          5.3060e-03,  2.2233e-01, -5.2185e-02, -2.7805e-01, -3.6139e-02,\n",
       "         -2.5270e-01,  5.6392e-04,  6.5706e-02, -4.4909e-01,  1.0570e-01,\n",
       "         -4.6372e-02, -2.8408e-01,  1.4478e-01, -9.5017e-02, -2.4919e-01,\n",
       "          4.5916e-01,  1.9099e-01, -2.7547e-02,  6.8209e-01,  3.1854e-01,\n",
       "          8.4829e-01,  2.1011e-01, -6.2364e-01, -5.1730e-01,  2.9910e-02],\n",
       "        [-3.3242e-01,  1.4625e-01,  4.5521e-01, -6.2271e-01,  3.2021e-01,\n",
       "          1.5394e-01,  1.3284e-01, -1.5070e-01,  9.5489e-02, -6.3955e-03,\n",
       "          1.3108e-02,  1.5931e-01,  1.1786e-01,  2.2924e-01,  7.5272e-01,\n",
       "          1.6803e-01,  2.1439e-01,  7.9881e-02, -1.0144e-01, -1.6980e-01,\n",
       "          1.4455e-01, -3.2078e-01, -1.7280e-01, -1.7328e-01,  1.4689e-01,\n",
       "         -3.4041e-01, -4.6229e-01, -3.4186e-01, -9.1830e-02, -2.1740e-02,\n",
       "          5.4774e-02,  2.2952e-01, -1.9904e-01, -5.2908e-01, -1.5283e-01,\n",
       "          4.8117e-01, -1.5162e-01,  3.6984e-02,  6.3286e-01, -1.2649e-01,\n",
       "         -1.3612e-01,  8.6825e-02, -1.7673e-01,  1.4557e-01,  2.4352e-03,\n",
       "         -2.4106e-01,  1.9101e-01,  3.1332e-01, -2.4817e-02,  2.2556e-01,\n",
       "         -2.0234e-01,  5.9608e-01, -1.8258e-02,  2.8683e-01,  1.9439e-01,\n",
       "         -6.0169e-02, -2.9238e-01, -4.9282e-01, -2.0393e-01,  1.1202e-01,\n",
       "         -4.7712e-02, -5.0784e-02, -1.2626e-01,  4.3172e-01, -4.6790e-01,\n",
       "         -5.4348e-01,  1.5041e-02,  5.1641e-01,  2.8394e-01,  4.0513e-01,\n",
       "          2.8860e-02,  4.6103e-01, -3.1703e-01, -2.7819e-03, -4.1975e-01,\n",
       "         -1.1799e-01,  1.7267e-01, -8.9424e-02, -9.6101e-02,  1.6031e-02,\n",
       "         -1.3745e-01, -9.6505e-02, -7.1775e-03, -4.9042e-01,  6.8151e-02,\n",
       "         -1.3100e-01, -3.2542e-01,  2.8282e-01, -1.7314e-01, -2.5564e-01,\n",
       "          5.3354e-01,  2.0990e-01, -3.8891e-02,  5.8422e-01,  4.5828e-01,\n",
       "          8.7736e-01,  4.1173e-02, -6.0222e-01, -6.1928e-01,  1.0766e-01],\n",
       "        [ 1.3674e-02,  1.2391e-01,  4.8574e-01, -5.3484e-01,  2.3636e-01,\n",
       "         -7.2756e-02,  1.3319e-02, -1.9600e-01,  9.5616e-02, -4.5585e-02,\n",
       "          1.6755e-01,  9.8734e-02,  6.2651e-02,  2.0982e-01,  7.8106e-01,\n",
       "          2.1983e-01,  2.6623e-01,  4.1775e-02,  6.6160e-02, -1.3882e-01,\n",
       "          1.6910e-01, -3.4959e-01, -2.7133e-01, -5.5485e-02,  2.7123e-02,\n",
       "         -2.7833e-01, -5.8561e-01, -3.5215e-01,  3.0522e-02, -1.9437e-01,\n",
       "         -2.9766e-03,  9.7430e-02, -2.8489e-01, -4.0010e-01, -1.0413e-01,\n",
       "          5.3021e-01, -1.9998e-01,  9.0965e-02,  7.5958e-01, -1.5327e-01,\n",
       "         -7.4185e-02,  1.0619e-01, -1.4359e-01,  9.9741e-02,  1.8284e-01,\n",
       "         -6.8937e-02,  3.5499e-03,  3.0775e-01, -1.6008e-01,  2.8536e-01,\n",
       "         -2.1688e-01,  6.8320e-01, -5.4787e-02,  1.6733e-01,  4.4142e-02,\n",
       "         -1.9040e-01, -2.5490e-01, -5.7843e-01, -2.6543e-01,  3.4761e-02,\n",
       "         -1.4874e-01, -3.9785e-02,  5.5398e-02,  4.6327e-01, -3.3216e-01,\n",
       "         -6.1518e-01,  7.4819e-03,  5.0777e-01,  2.2038e-01,  2.7492e-01,\n",
       "          2.2917e-01,  2.6596e-01, -3.4218e-01,  9.9120e-02, -3.0266e-01,\n",
       "         -1.1437e-01,  3.9722e-01,  9.6854e-02, -1.8009e-01,  4.1583e-02,\n",
       "         -1.4732e-01, -1.5824e-01,  8.5643e-03, -4.5151e-01,  4.8047e-02,\n",
       "         -1.9562e-02, -1.4383e-01,  1.8169e-01, -1.9565e-01, -3.1071e-01,\n",
       "          4.7073e-01,  2.0612e-01, -2.0998e-01,  5.8790e-01,  4.7970e-01,\n",
       "          5.9806e-01,  2.1431e-02, -5.7153e-01, -5.3657e-01, -4.6972e-02],\n",
       "        [-2.6286e-02,  1.6115e-01,  5.4626e-01, -3.8122e-01,  2.7341e-01,\n",
       "          1.9466e-03,  1.6018e-02, -1.5977e-01,  2.3811e-01,  1.6671e-02,\n",
       "         -4.9810e-03, -3.8525e-02,  1.4115e-01,  2.9268e-01,  7.7179e-01,\n",
       "          1.8247e-01,  2.0508e-01,  1.6585e-01, -1.1772e-01, -2.5676e-01,\n",
       "          1.3958e-01, -2.4927e-01, -1.3852e-01, -1.0398e-01,  1.2762e-01,\n",
       "         -1.9637e-01, -5.1843e-01, -4.2379e-01, -1.4027e-01, -1.2709e-01,\n",
       "          7.3422e-02,  1.3718e-01, -2.4474e-01, -4.9068e-01, -5.9649e-02,\n",
       "          4.7939e-01, -6.9344e-02,  3.7913e-02,  5.9200e-01, -1.8121e-01,\n",
       "         -7.0827e-02,  8.3013e-02, -2.2555e-01,  8.1951e-02,  1.7677e-01,\n",
       "         -1.3012e-01,  6.8918e-02,  3.5078e-01, -1.8183e-02,  2.5978e-01,\n",
       "         -1.9806e-01,  6.4144e-01, -1.5395e-01,  2.5462e-01,  1.2680e-01,\n",
       "         -8.1675e-02, -2.4502e-01, -6.2310e-01, -1.8544e-02,  1.3706e-01,\n",
       "         -1.8862e-01, -4.0858e-02, -9.4585e-02,  3.9844e-01, -5.0733e-01,\n",
       "         -4.4207e-01,  1.5040e-01,  5.3324e-01,  3.8036e-01,  2.9170e-01,\n",
       "          1.2807e-01,  4.3642e-01, -2.3987e-01, -2.5265e-02, -2.7665e-01,\n",
       "         -2.2425e-02,  4.0484e-01,  1.2176e-01, -1.0911e-01, -1.1381e-01,\n",
       "         -1.3271e-01, -2.1490e-02,  5.8729e-02, -4.7712e-01,  7.3682e-02,\n",
       "          5.1500e-02, -2.7453e-01,  1.3926e-01, -1.5267e-01, -2.7477e-01,\n",
       "          4.0399e-01,  8.7467e-02, -6.2672e-02,  4.7946e-01,  3.9991e-01,\n",
       "          7.7607e-01,  1.5583e-01, -7.2164e-01, -4.7224e-01,  8.3585e-02],\n",
       "        [-1.5895e-01,  1.2598e-01,  5.1217e-01, -4.7838e-01,  3.6372e-01,\n",
       "          3.3251e-02, -8.6614e-02,  4.5275e-02,  4.6895e-02, -4.8330e-02,\n",
       "         -4.2589e-02,  7.7463e-02,  1.1691e-01,  1.8011e-01,  6.8924e-01,\n",
       "          2.3247e-01,  1.7388e-01,  1.1626e-01, -1.4905e-01, -8.7064e-02,\n",
       "          2.0639e-01, -4.3279e-01, -8.3349e-02, -9.1157e-02,  2.2768e-01,\n",
       "         -3.0912e-01, -5.1493e-01, -4.3800e-01,  1.4914e-01, -9.3866e-02,\n",
       "         -8.9979e-02,  1.5516e-01, -2.9307e-01, -5.4185e-01, -2.1979e-01,\n",
       "          5.7765e-01, -2.2427e-01,  2.6717e-02,  5.8533e-01, -2.3138e-01,\n",
       "         -1.0712e-01,  1.2201e-01, -2.0272e-01,  1.3611e-01,  6.7534e-02,\n",
       "         -2.3719e-01,  7.0040e-02,  3.1485e-01, -3.5696e-02,  3.7240e-01,\n",
       "         -2.1778e-01,  5.9058e-01, -1.3311e-01,  2.8308e-01,  4.4467e-02,\n",
       "         -5.7731e-02, -2.5339e-01, -6.9256e-01, -1.8167e-01,  3.4007e-02,\n",
       "         -1.4666e-01, -6.2321e-02, -6.3753e-02,  5.4113e-01, -5.6249e-01,\n",
       "         -4.6577e-01,  1.6071e-01,  5.1573e-01,  2.0747e-01,  2.3642e-01,\n",
       "          7.9751e-02,  4.5136e-01, -2.2991e-01,  1.4957e-02, -2.2566e-01,\n",
       "         -5.2136e-02,  2.5755e-01,  9.5044e-02, -3.4693e-01, -7.5644e-02,\n",
       "         -2.6713e-01, -5.3836e-02,  4.3695e-02, -5.3587e-01,  7.4654e-02,\n",
       "         -5.9496e-02, -1.0576e-01,  1.7277e-01, -2.0281e-01, -2.2726e-01,\n",
       "          4.6470e-01,  3.2478e-02, -6.4654e-02,  5.9245e-01,  3.2566e-01,\n",
       "          8.6996e-01,  9.5540e-02, -7.1844e-01, -5.5410e-01,  5.1499e-03]],\n",
       "       device='cuda:0', grad_fn=<AddmmBackward0>)"
      ]
     },
     "execution_count": 147,
     "metadata": {},
     "output_type": "execute_result"
    }
   ],
   "source": [
    "ResNet10(x)"
   ]
  },
  {
   "cell_type": "code",
   "execution_count": 148,
   "metadata": {},
   "outputs": [
    {
     "name": "stdout",
     "output_type": "stream",
     "text": [
      "ResNet(\n",
      "  (conv1): Sequential(\n",
      "    (0): Conv2d(3, 64, kernel_size=(7, 7), stride=(2, 2), padding=(3, 3))\n",
      "    (1): BatchNorm2d(64, eps=1e-05, momentum=0.1, affine=True, track_running_stats=True)\n",
      "    (2): ReLU()\n",
      "  )\n",
      "  (conv2): Sequential(\n",
      "    (0): MaxPool2d(kernel_size=3, stride=2, padding=1, dilation=1, ceil_mode=False)\n",
      "    (1): ResNetLayer(\n",
      "      (layers): Sequential(\n",
      "        (0): ResNetBlock(\n",
      "          (layers): Sequential(\n",
      "            (0): Conv2d(64, 64, kernel_size=(3, 3), stride=(1, 1), padding=(1, 1))\n",
      "            (1): BatchNorm2d(64, eps=1e-05, momentum=0.1, affine=True, track_running_stats=True)\n",
      "            (2): ReLU()\n",
      "            (3): Conv2d(64, 64, kernel_size=(3, 3), stride=(1, 1), padding=(1, 1))\n",
      "            (4): BatchNorm2d(64, eps=1e-05, momentum=0.1, affine=True, track_running_stats=True)\n",
      "          )\n",
      "          (relu): ReLU()\n",
      "        )\n",
      "      )\n",
      "    )\n",
      "  )\n",
      "  (conv3): ResNetLayer(\n",
      "    (layers): Sequential(\n",
      "      (0): ResNetBlock(\n",
      "        (downsample): Sequential(\n",
      "          (0): Conv2d(64, 128, kernel_size=(1, 1), stride=(2, 2))\n",
      "          (1): BatchNorm2d(128, eps=1e-05, momentum=0.1, affine=True, track_running_stats=True)\n",
      "        )\n",
      "        (layers): Sequential(\n",
      "          (0): Conv2d(64, 128, kernel_size=(3, 3), stride=(2, 2), padding=(1, 1))\n",
      "          (1): BatchNorm2d(128, eps=1e-05, momentum=0.1, affine=True, track_running_stats=True)\n",
      "          (2): ReLU()\n",
      "          (3): Conv2d(128, 128, kernel_size=(3, 3), stride=(1, 1), padding=(1, 1))\n",
      "          (4): BatchNorm2d(128, eps=1e-05, momentum=0.1, affine=True, track_running_stats=True)\n",
      "        )\n",
      "        (relu): ReLU()\n",
      "      )\n",
      "    )\n",
      "  )\n",
      "  (conv4): ResNetLayer(\n",
      "    (layers): Sequential(\n",
      "      (0): ResNetBlock(\n",
      "        (downsample): Sequential(\n",
      "          (0): Conv2d(128, 256, kernel_size=(1, 1), stride=(2, 2))\n",
      "          (1): BatchNorm2d(256, eps=1e-05, momentum=0.1, affine=True, track_running_stats=True)\n",
      "        )\n",
      "        (layers): Sequential(\n",
      "          (0): Conv2d(128, 256, kernel_size=(3, 3), stride=(2, 2), padding=(1, 1))\n",
      "          (1): BatchNorm2d(256, eps=1e-05, momentum=0.1, affine=True, track_running_stats=True)\n",
      "          (2): ReLU()\n",
      "          (3): Conv2d(256, 256, kernel_size=(3, 3), stride=(1, 1), padding=(1, 1))\n",
      "          (4): BatchNorm2d(256, eps=1e-05, momentum=0.1, affine=True, track_running_stats=True)\n",
      "        )\n",
      "        (relu): ReLU()\n",
      "      )\n",
      "    )\n",
      "  )\n",
      "  (conv5): ResNetLayer(\n",
      "    (layers): Sequential(\n",
      "      (0): ResNetBlock(\n",
      "        (downsample): Sequential(\n",
      "          (0): Conv2d(256, 512, kernel_size=(1, 1), stride=(2, 2))\n",
      "          (1): BatchNorm2d(512, eps=1e-05, momentum=0.1, affine=True, track_running_stats=True)\n",
      "        )\n",
      "        (layers): Sequential(\n",
      "          (0): Conv2d(256, 512, kernel_size=(3, 3), stride=(2, 2), padding=(1, 1))\n",
      "          (1): BatchNorm2d(512, eps=1e-05, momentum=0.1, affine=True, track_running_stats=True)\n",
      "          (2): ReLU()\n",
      "          (3): Conv2d(512, 512, kernel_size=(3, 3), stride=(1, 1), padding=(1, 1))\n",
      "          (4): BatchNorm2d(512, eps=1e-05, momentum=0.1, affine=True, track_running_stats=True)\n",
      "        )\n",
      "        (relu): ReLU()\n",
      "      )\n",
      "    )\n",
      "  )\n",
      "  (avgpool): AvgPool2d(kernel_size=7, stride=1, padding=0)\n",
      "  (classicicator): Sequential(\n",
      "    (0): Flatten(start_dim=1, end_dim=-1)\n",
      "    (1): Linear(in_features=512, out_features=100, bias=True)\n",
      "  )\n",
      ")\n"
     ]
    }
   ],
   "source": [
    "print(ResNet10)"
   ]
  },
  {
   "cell_type": "code",
   "execution_count": 149,
   "metadata": {},
   "outputs": [],
   "source": [
    "optimizer_10 = torch.optim.Adam(ResNet10.parameters(), lr=0.01)\n",
    "\n",
    "scheduler_10 = torch.optim.lr_scheduler.OneCycleLR(optimizer_10, 0.01, epochs=epochs, \n",
    "                                                steps_per_epoch=len(train_dataloader))"
   ]
  },
  {
   "cell_type": "code",
   "execution_count": 150,
   "metadata": {},
   "outputs": [],
   "source": [
    "train_loss_history_10 = []\n",
    "lr_history_10 = []\n",
    "test_loss_history_10 = []\n",
    "test_metric_history_10 = []"
   ]
  },
  {
   "cell_type": "code",
   "execution_count": 151,
   "metadata": {},
   "outputs": [
    {
     "name": "stdout",
     "output_type": "stream",
     "text": [
      "Epoch 1\n",
      "\n",
      "loss: 4.645724  [  256/50000]\n",
      "loss: 3.624153  [25856/50000]\n",
      "Test Error: \n",
      " Accuracy: 17.5%, Avg loss: 3.431933\n",
      "_______________________________\n",
      "Epoch 2\n",
      "\n",
      "loss: 3.282940  [  256/50000]\n",
      "loss: 3.034834  [25856/50000]\n",
      "Test Error: \n",
      " Accuracy: 26.3%, Avg loss: 2.944956\n",
      "_______________________________\n",
      "Epoch 3\n",
      "\n",
      "loss: 2.874835  [  256/50000]\n",
      "loss: 2.643886  [25856/50000]\n",
      "Test Error: \n",
      " Accuracy: 33.9%, Avg loss: 2.554615\n",
      "_______________________________\n",
      "Epoch 4\n",
      "\n",
      "loss: 2.331351  [  256/50000]\n",
      "loss: 2.346120  [25856/50000]\n",
      "Test Error: \n",
      " Accuracy: 38.6%, Avg loss: 2.352518\n",
      "_______________________________\n",
      "Epoch 5\n",
      "\n",
      "loss: 2.205017  [  256/50000]\n",
      "loss: 2.009766  [25856/50000]\n",
      "Test Error: \n",
      " Accuracy: 42.5%, Avg loss: 2.183357\n",
      "_______________________________\n",
      "Epoch 6\n",
      "\n",
      "loss: 1.724350  [  256/50000]\n",
      "loss: 1.757657  [25856/50000]\n",
      "Test Error: \n",
      " Accuracy: 46.9%, Avg loss: 1.976022\n",
      "_______________________________\n",
      "Epoch 7\n",
      "\n",
      "loss: 1.572499  [  256/50000]\n",
      "loss: 1.513243  [25856/50000]\n",
      "Test Error: \n",
      " Accuracy: 50.7%, Avg loss: 1.818526\n",
      "_______________________________\n",
      "Epoch 8\n",
      "\n",
      "loss: 1.311414  [  256/50000]\n",
      "loss: 1.401795  [25856/50000]\n",
      "Test Error: \n",
      " Accuracy: 52.9%, Avg loss: 1.749325\n",
      "_______________________________\n",
      "Epoch 9\n",
      "\n",
      "loss: 1.094369  [  256/50000]\n",
      "loss: 1.099139  [25856/50000]\n",
      "Test Error: \n",
      " Accuracy: 53.0%, Avg loss: 1.772742\n",
      "_______________________________\n",
      "Epoch 10\n",
      "\n",
      "loss: 1.069302  [  256/50000]\n",
      "loss: 1.007907  [25856/50000]\n",
      "Test Error: \n",
      " Accuracy: 54.1%, Avg loss: 1.708848\n",
      "_______________________________\n",
      "Finished\n"
     ]
    }
   ],
   "source": [
    "for i in range(epochs):\n",
    "    print(f'Epoch {i+1}\\n')\n",
    "    train(train_dataloader, ResNet10, loss_fn, optimizer_10)\n",
    "    test(test_dataloader, ResNet10, loss_fn, optimizer_10)\n",
    "print('Finished')"
   ]
  },
  {
   "cell_type": "code",
   "execution_count": null,
   "metadata": {},
   "outputs": [],
   "source": []
  }
 ],
 "metadata": {
  "kernelspec": {
   "display_name": "base",
   "language": "python",
   "name": "python3"
  },
  "language_info": {
   "codemirror_mode": {
    "name": "ipython",
    "version": 3
   },
   "file_extension": ".py",
   "mimetype": "text/x-python",
   "name": "python",
   "nbconvert_exporter": "python",
   "pygments_lexer": "ipython3",
   "version": "3.11.5"
  }
 },
 "nbformat": 4,
 "nbformat_minor": 2
}
